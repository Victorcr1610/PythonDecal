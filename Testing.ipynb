{
 "cells": [
  {
   "cell_type": "code",
   "execution_count": 1,
   "metadata": {},
   "outputs": [],
   "source": [
    "import sys \n",
    "import numpy as np\n",
    "import matplotlib.pyplot as plt\n",
    "%matplotlib inline\n",
    "import random\n",
    "from astropy.io import fits\n",
    "from astropy.table import Table\n",
    "from astropy.coordinates import SkyCoord \n",
    "from astropy.coordinates import ICRS, Galactic, FK4, FK5\n",
    "import csv"
   ]
  },
  {
   "cell_type": "code",
   "execution_count": 5,
   "metadata": {},
   "outputs": [
    {
     "name": "stdout",
     "output_type": "stream",
     "text": [
      "pizza\n"
     ]
    }
   ],
   "source": [
    "print(\"pizza\")"
   ]
  },
  {
   "cell_type": "code",
   "execution_count": 6,
   "metadata": {},
   "outputs": [
    {
     "data": {
      "text/plain": [
       "3"
      ]
     },
     "execution_count": 6,
     "metadata": {},
     "output_type": "execute_result"
    }
   ],
   "source": [
    "max([2,3])"
   ]
  },
  {
   "cell_type": "code",
   "execution_count": 7,
   "metadata": {},
   "outputs": [
    {
     "name": "stdout",
     "output_type": "stream",
     "text": [
      "dogs\n"
     ]
    }
   ],
   "source": [
    "print(\"dogs\")"
   ]
  },
  {
   "cell_type": "code",
   "execution_count": 8,
   "metadata": {},
   "outputs": [],
   "source": [
    "def cube(x):\n",
    "    V=(5//2)*x\n",
    "    return V\n"
   ]
  },
  {
   "cell_type": "code",
   "execution_count": 9,
   "metadata": {},
   "outputs": [
    {
     "data": {
      "text/plain": [
       "2"
      ]
     },
     "execution_count": 9,
     "metadata": {},
     "output_type": "execute_result"
    }
   ],
   "source": [
    "cube(1)"
   ]
  },
  {
   "cell_type": "code",
   "execution_count": 10,
   "metadata": {},
   "outputs": [],
   "source": [
    "def square(x):\n",
    "    y=x**2\n",
    "    return y"
   ]
  },
  {
   "cell_type": "code",
   "execution_count": 11,
   "metadata": {},
   "outputs": [
    {
     "data": {
      "text/plain": [
       "25"
      ]
     },
     "execution_count": 11,
     "metadata": {},
     "output_type": "execute_result"
    }
   ],
   "source": [
    "square(5)"
   ]
  },
  {
   "cell_type": "code",
   "execution_count": 12,
   "metadata": {},
   "outputs": [],
   "source": [
    "def switch(word):\n",
    "    switched = word[0:4:1]\n",
    "    return switched "
   ]
  },
  {
   "cell_type": "code",
   "execution_count": 13,
   "metadata": {},
   "outputs": [
    {
     "data": {
      "text/plain": [
       "'race'"
      ]
     },
     "execution_count": 13,
     "metadata": {},
     "output_type": "execute_result"
    }
   ],
   "source": [
    "switch('racecar')"
   ]
  },
  {
   "cell_type": "code",
   "execution_count": 14,
   "metadata": {},
   "outputs": [
    {
     "name": "stdout",
     "output_type": "stream",
     "text": [
      "1\n",
      "2\n",
      "3\n",
      "4\n",
      "5\n",
      "6\n",
      "7\n",
      "8\n",
      "9\n",
      "10\n",
      "11\n",
      "12\n",
      "13\n",
      "14\n",
      "15\n",
      "16\n",
      "17\n",
      "18\n",
      "19\n",
      "20\n",
      "21\n",
      "22\n",
      "23\n",
      "24\n",
      "25\n",
      "26\n",
      "27\n",
      "28\n",
      "29\n",
      "30\n",
      "31\n",
      "32\n",
      "33\n",
      "34\n",
      "35\n",
      "36\n",
      "37\n",
      "38\n",
      "39\n",
      "40\n",
      "41\n",
      "42\n",
      "43\n",
      "44\n",
      "45\n",
      "46\n",
      "47\n",
      "48\n",
      "49\n",
      "50\n",
      "51\n",
      "52\n",
      "53\n",
      "54\n",
      "55\n",
      "56\n",
      "57\n",
      "58\n",
      "59\n",
      "60\n",
      "61\n",
      "62\n",
      "63\n",
      "64\n",
      "65\n",
      "66\n",
      "67\n",
      "68\n",
      "69\n",
      "70\n",
      "71\n",
      "72\n",
      "73\n",
      "74\n",
      "75\n",
      "76\n",
      "77\n",
      "78\n",
      "79\n",
      "80\n",
      "81\n",
      "82\n",
      "83\n",
      "84\n",
      "85\n",
      "86\n",
      "87\n",
      "88\n",
      "89\n",
      "90\n",
      "91\n",
      "92\n",
      "93\n",
      "94\n",
      "95\n",
      "96\n",
      "97\n",
      "98\n",
      "99\n",
      "100\n"
     ]
    }
   ],
   "source": [
    "for i in range (1,101):\n",
    "\n",
    "    print(i)"
   ]
  },
  {
   "cell_type": "code",
   "execution_count": 15,
   "metadata": {},
   "outputs": [
    {
     "name": "stdout",
     "output_type": "stream",
     "text": [
      "1\n",
      "2\n",
      "3\n",
      "4\n",
      "5\n"
     ]
    }
   ],
   "source": [
    "i = 1\n",
    "while i <6:\n",
    "    print(i)\n",
    "    i += 1"
   ]
  },
  {
   "cell_type": "code",
   "execution_count": 16,
   "metadata": {},
   "outputs": [
    {
     "name": "stdout",
     "output_type": "stream",
     "text": [
      "2\n",
      "3\n",
      "4\n",
      "5\n",
      "6\n"
     ]
    }
   ],
   "source": [
    "i = 1\n",
    "while i <6:\n",
    "    i += 1\n",
    "    print(i)"
   ]
  },
  {
   "cell_type": "code",
   "execution_count": 17,
   "metadata": {},
   "outputs": [
    {
     "data": {
      "text/plain": [
       "False"
      ]
     },
     "execution_count": 17,
     "metadata": {},
     "output_type": "execute_result"
    }
   ],
   "source": [
    "a = 7\n",
    "b = 14\n",
    "a!=b and a==b"
   ]
  },
  {
   "cell_type": "code",
   "execution_count": 18,
   "metadata": {},
   "outputs": [
    {
     "data": {
      "text/plain": [
       "False"
      ]
     },
     "execution_count": 18,
     "metadata": {},
     "output_type": "execute_result"
    }
   ],
   "source": [
    "\"James\" > \"Yilun\" or \"Wendy\" > \"Yilun\""
   ]
  },
  {
   "cell_type": "code",
   "execution_count": 19,
   "metadata": {},
   "outputs": [
    {
     "data": {
      "text/plain": [
       "True"
      ]
     },
     "execution_count": 19,
     "metadata": {},
     "output_type": "execute_result"
    }
   ],
   "source": [
    "\"a\"<\"b\""
   ]
  },
  {
   "cell_type": "code",
   "execution_count": 20,
   "metadata": {},
   "outputs": [
    {
     "name": "stdout",
     "output_type": "stream",
     "text": [
      "['Caytyn', 'Paige', 'Victoria', 'Riley', 'Victor', 'Oski', 'Kingsley', 'Geo', 'Emmanuel', 'Carol Christ', 'Joshua', 'Lyla', 'Nadia', 'Camden', 'Mey', 'Sebastian', 'Esther', 'Chloe']\n",
      "length of list= 18\n"
     ]
    }
   ],
   "source": [
    "students = [\"Caytyn\", \"Paige\", \"Victoria\", \"Riley\", \"Victor\", \"Oski\",\n",
    "            \"Kingsley\", \"Geo\", \"Emmanuel\",\"Carol Christ\", \"Joshua\", \"Lyla\",\n",
    "            \"Nadia\",\"Camden\",\"Mey\", \"Sebastian\", \"Esther\",\"Chloe\"]\n",
    "print (students)\n",
    "print ( \"length of list=\",len(students))\n",
    "\n"
   ]
  },
  {
   "cell_type": "code",
   "execution_count": null,
   "metadata": {},
   "outputs": [],
   "source": []
  },
  {
   "cell_type": "code",
   "execution_count": 21,
   "metadata": {},
   "outputs": [],
   "source": [
    "    ## '''Returns a new list with only the numbers that are odd in the numbers list. >> select_odd([2, 3, 7, 10])\n",
    "    ## [3, 7]\n",
    "    ## >>> select_odd([2, 4, 6, 8]) [] '''"
   ]
  },
  {
   "cell_type": "code",
   "execution_count": null,
   "metadata": {},
   "outputs": [],
   "source": [
    "def select_odd(numbers):\n",
    "    numbers = input()\n",
    "    if (numbers%2)== 1:\n",
    "        print(numbers)\n",
    "select_odd([1,4,5])"
   ]
  },
  {
   "cell_type": "code",
   "execution_count": null,
   "metadata": {},
   "outputs": [],
   "source": [
    "29/2"
   ]
  },
  {
   "cell_type": "code",
   "execution_count": null,
   "metadata": {},
   "outputs": [],
   "source": [
    "def is_prime(n):\n",
    "    if (n/2)!=0:\n",
    "        print (true)\n",
    "    else \n",
    "is_prime(4)       "
   ]
  },
  {
   "cell_type": "code",
   "execution_count": null,
   "metadata": {},
   "outputs": [],
   "source": [
    "def isPrime(n):\n",
    "    if (n < 2): return False\n",
    "    # deal with evens first (to cut time in half)\n",
    "    if (n == 2): return True\n",
    "    if (n % 2 == 0): return False\n",
    "    # then only check odds up to the square root\n",
    "    for factor in range(3, 1+int(round(n**0.5)), 2):\n",
    "        if (n % factor == 0):\n",
    "            return False\n",
    "    return True\n",
    "isPrime(6)"
   ]
  },
  {
   "cell_type": "code",
   "execution_count": null,
   "metadata": {},
   "outputs": [],
   "source": [
    "for i in range (1, 50):\n",
    "    list ([1-50])"
   ]
  },
  {
   "cell_type": "code",
   "execution_count": null,
   "metadata": {},
   "outputs": [],
   "source": [
    "def while_fib ( last, curr): \n",
    "    last, curr = 0,1\n",
    "    while curr < 50 : \n",
    "        print(curr)\n",
    "        last = curr\n",
    "        next = last + curr\n",
    "while_fib(0,1)"
   ]
  },
  {
   "cell_type": "code",
   "execution_count": null,
   "metadata": {},
   "outputs": [],
   "source": [
    "import numpy as np\n",
    "import matplotlib.pyplot as plt\n",
    "x = np.linspace(-1,1, 200)\n",
    "for i in range (5):\n",
    "    plt.scatter(x, x**i, s = '*')\n",
    "plt.show()"
   ]
  },
  {
   "cell_type": "code",
   "execution_count": null,
   "metadata": {},
   "outputs": [],
   "source": [
    "x = np.linspace(0, 2*np.pi, 100)\n",
    "f = (np.exp(-3*x))*(math.sin(x))\n",
    "g = (np.exp(-3*x)\n",
    "\n",
    "plt.figure()\n",
    "plt.title('f(x) v g(x)')\n",
    "plt.xlabel('x-axis')\n",
    "plt.ylabel('y-axis')\n",
    "plt.plot(x, f, label = 'F(x) vs G(x)')"
   ]
  },
  {
   "cell_type": "code",
   "execution_count": null,
   "metadata": {},
   "outputs": [],
   "source": [
    "x = np.linspace(0, 2*np.pi, 100)\n",
    "f = (np.exp(-3*x))*np.sin(x)\n",
    "g = (np.exp(-3*x))\n",
    "F = (np.exp(-5*x**2))\n",
    "\n",
    "plt.figure()\n",
    "plt.title('f(x) v g(x)')\n",
    "plt.xlabel('x-axis')\n",
    "plt.ylabel('y-axis')\n",
    "plt.plot(x, f, label = 'e**(-3*x)*sin(x)')\n",
    "plt.plot(x, g, label = 'e**(-3*x)')\n",
    "plt.legend()\n",
    "plt.show"
   ]
  },
  {
   "cell_type": "code",
   "execution_count": null,
   "metadata": {},
   "outputs": [],
   "source": [
    "bot_right = ((1 - np.sign(-x - .51 + abs(2*y)))*(np.sign(.5 - x) +1)) /3\n",
    "             \n",
    "ax4.plot3D(x,y, bot_right, 'g')\n",
    "ax4.set_title('Bottom right graph')\n",
    "ax4.set_xlabel('x-axis')\n",
    "ax4.set_ylabel('y-axis')\n",
    "ax4.set_zlabel('z-axis')\n",
    "\n"
   ]
  },
  {
   "cell_type": "code",
   "execution_count": 3,
   "metadata": {},
   "outputs": [
    {
     "data": {
      "text/html": [
       "<i>Table length=104423</i>\n",
       "<table id=\"table140311700449888\" class=\"table-striped table-bordered table-condensed\">\n",
       "<thead><tr><th>EEP</th><th>log10_isochrone_age_yr</th><th>initial_mass</th><th>star_mass</th><th>log_Teff</th><th>log_g</th><th>log_L</th><th>[Fe/H]_init</th><th>[Fe/H]</th><th>CFHT_u</th><th>CFHT_g</th><th>CFHT_r</th><th>CFHT_i_new</th><th>CFHT_i_old</th><th>CFHT_z</th><th>phase</th></tr></thead>\n",
       "<thead><tr><th>int64</th><th>float64</th><th>float64</th><th>float64</th><th>float64</th><th>float64</th><th>float64</th><th>float64</th><th>float64</th><th>float64</th><th>float64</th><th>float64</th><th>float64</th><th>float64</th><th>float64</th><th>float64</th></tr></thead>\n",
       "<tr><td>14</td><td>5.0</td><td>0.1</td><td>0.09999998746585048</td><td>3.4862207608164812</td><td>3.1313420078437875</td><td>-0.7936671058178539</td><td>-0.25</td><td>-0.2172</td><td>11.639511</td><td>10.351183</td><td>9.27259</td><td>7.421863</td><td>7.289774</td><td>6.55172</td><td>-1.0</td></tr>\n",
       "<tr><td>15</td><td>5.0</td><td>0.10264483521052409</td><td>0.10264482205216272</td><td>3.487361840014425</td><td>3.126808017776419</td><td>-0.7752541529783836</td><td>-0.25</td><td>-0.2172</td><td>11.579782</td><td>10.282725</td><td>9.205304</td><td>7.367891</td><td>7.2362</td><td>6.50233</td><td>-1.0</td></tr>\n",
       "<tr><td>16</td><td>5.0</td><td>0.10703921552827966</td><td>0.10703920129064491</td><td>3.4892434780670603</td><td>3.1193671044823663</td><td>-0.7448104503464025</td><td>-0.25</td><td>-0.2172</td><td>11.48149</td><td>10.169663</td><td>9.094134</td><td>7.278721</td><td>7.147687</td><td>6.420764</td><td>-1.0</td></tr>\n",
       "<tr><td>17</td><td>5.0</td><td>0.11141918414580901</td><td>0.1114191687755168</td><td>3.491101990955403</td><td>3.1121651055949915</td><td>-0.7147489183113934</td><td>-0.25</td><td>-0.2172</td><td>11.385059</td><td>10.05807</td><td>8.984302</td><td>7.190715</td><td>7.060339</td><td>6.340384</td><td>-1.0</td></tr>\n",
       "<tr><td>18</td><td>5.0</td><td>0.11578922006201725</td><td>0.11578920350356509</td><td>3.492937182847681</td><td>3.1051434929159094</td><td>-0.6849960377509758</td><td>-0.25</td><td>-0.2172</td><td>11.290114</td><td>9.947863</td><td>8.875689</td><td>7.103744</td><td>6.974033</td><td>6.261096</td><td>-1.0</td></tr>\n",
       "<tr><td>19</td><td>5.0</td><td>0.12015251878285713</td><td>0.12015250097890492</td><td>3.494751515584233</td><td>3.0983275174580474</td><td>-0.6555559583025994</td><td>-0.25</td><td>-0.2172</td><td>11.196487</td><td>9.839046</td><td>8.768254</td><td>7.017825</td><td>6.888793</td><td>6.182969</td><td>-1.0</td></tr>\n",
       "<tr><td>20</td><td>5.0</td><td>0.12450712023719923</td><td>0.1245071011296722</td><td>3.496542324145716</td><td>3.0916955500675276</td><td>-0.6264246139160312</td><td>-0.25</td><td>-0.2172</td><td>11.103659</td><td>9.731731</td><td>8.662071</td><td>6.933003</td><td>6.804669</td><td>6.10607</td><td>-1.0</td></tr>\n",
       "<tr><td>21</td><td>5.0</td><td>0.12885093010385934</td><td>0.12885090963400228</td><td>3.498308436059524</td><td>3.085259204213954</td><td>-0.5976256837823304</td><td>-0.25</td><td>-0.2172</td><td>11.012619</td><td>9.626034</td><td>8.557219</td><td>6.849366</td><td>6.721753</td><td>6.030513</td><td>-1.0</td></tr>\n",
       "<tr><td>22</td><td>5.0</td><td>0.13318409778677381</td><td>0.13318407589474415</td><td>3.5000490469843273</td><td>3.079000435238438</td><td>-0.5691438144320149</td><td>-0.25</td><td>-0.2172</td><td>10.923391</td><td>9.521975</td><td>8.453688</td><td>6.766905</td><td>6.64004</td><td>5.956308</td><td>-1.0</td></tr>\n",
       "<tr><td>23</td><td>5.0</td><td>0.13750667894275914</td><td>0.1375066555678251</td><td>3.5017638232875714</td><td>3.0729445669623976</td><td>-0.5410054682012262</td><td>-0.25</td><td>-0.2172</td><td>10.836126</td><td>9.419641</td><td>8.351534</td><td>6.685698</td><td>6.559615</td><td>5.883558</td><td>-1.0</td></tr>\n",
       "<tr><td>...</td><td>...</td><td>...</td><td>...</td><td>...</td><td>...</td><td>...</td><td>...</td><td>...</td><td>...</td><td>...</td><td>...</td><td>...</td><td>...</td><td>...</td><td>...</td></tr>\n",
       "<tr><td>1701</td><td>10.3</td><td>0.8064105147564941</td><td>0.5285320865410694</td><td>4.418615110411304</td><td>7.760911452116531</td><td>-0.9706184762138379</td><td>-0.25</td><td>-0.231031</td><td>9.513536</td><td>9.672939</td><td>10.108286</td><td>10.442923</td><td>10.479313</td><td>10.755904</td><td>6.0</td></tr>\n",
       "<tr><td>1702</td><td>10.3</td><td>0.8064269061830728</td><td>0.5285335941908015</td><td>4.411651964218809</td><td>7.763880778885488</td><td>-1.0014391420360957</td><td>-0.25</td><td>-0.23103</td><td>9.565704</td><td>9.714794</td><td>10.146751</td><td>10.479542</td><td>10.515729</td><td>10.791159</td><td>6.0</td></tr>\n",
       "<tr><td>1703</td><td>10.3</td><td>0.8064450013644069</td><td>0.528535258561665</td><td>4.404685628277912</td><td>7.766813018293028</td><td>-1.0322353499975683</td><td>-0.25</td><td>-0.231024</td><td>9.617091</td><td>9.755941</td><td>10.184527</td><td>10.515476</td><td>10.551474</td><td>10.82576</td><td>6.0</td></tr>\n",
       "<tr><td>1704</td><td>10.3</td><td>0.8064655053293757</td><td>0.5285371445050943</td><td>4.397716700083997</td><td>7.7697069351561865</td><td>-1.0630034213493431</td><td>-0.25</td><td>-0.231023</td><td>9.66749</td><td>9.796226</td><td>10.221484</td><td>10.550608</td><td>10.586432</td><td>10.859608</td><td>6.0</td></tr>\n",
       "<tr><td>1705</td><td>10.3</td><td>0.8064882807604392</td><td>0.5285392393906879</td><td>4.390745373264645</td><td>7.772564857480338</td><td>-1.0937449200225342</td><td>-0.25</td><td>-0.231017</td><td>9.716965</td><td>9.8357</td><td>10.257644</td><td>10.584944</td><td>10.620604</td><td>10.892683</td><td>6.0</td></tr>\n",
       "<tr><td>1706</td><td>10.3</td><td>0.8065136373043007</td><td>0.5285415717024686</td><td>4.383771429336097</td><td>7.775383705390151</td><td>-1.1244576165415299</td><td>-0.25</td><td>-0.231012</td><td>9.765736</td><td>9.87453</td><td>10.293131</td><td>10.618587</td><td>10.654089</td><td>10.925058</td><td>6.0</td></tr>\n",
       "<tr><td>1707</td><td>10.3</td><td>0.8065421237741218</td><td>0.5285441919235873</td><td>4.37679479408888</td><td>7.7781588358650176</td><td>-1.1551371230112055</td><td>-0.25</td><td>-0.231008</td><td>9.813868</td><td>9.912758</td><td>10.32799</td><td>10.651583</td><td>10.686931</td><td>10.956781</td><td>6.0</td></tr>\n",
       "<tr><td>1708</td><td>10.3</td><td>0.8065739626913837</td><td>0.528547120524818</td><td>4.369814601288848</td><td>7.780883786299846</td><td>-1.1857804248488228</td><td>-0.25</td><td>-0.231</td><td>9.861425</td><td>9.950426</td><td>10.362264</td><td>10.683975</td><td>10.719173</td><td>10.987896</td><td>6.0</td></tr>\n",
       "<tr><td>1709</td><td>10.3</td><td>0.8066093104715343</td><td>0.5285503718939952</td><td>4.362831464828341</td><td>7.783561336680345</td><td>-1.2163878345825658</td><td>-0.25</td><td>-0.230994</td><td>9.908497</td><td>9.9876</td><td>10.396019</td><td>10.715832</td><td>10.750885</td><td>11.018475</td><td>6.0</td></tr>\n",
       "<tr><td>1710</td><td>10.3</td><td>0.806647992208176</td><td>0.5285539299446825</td><td>4.3558446718871355</td><td>7.7861892282848295</td><td>-1.2469599580632966</td><td>-0.25</td><td>-0.230987</td><td>9.955152</td><td>10.024328</td><td>10.429304</td><td>10.7472</td><td>10.782112</td><td>11.048564</td><td>6.0</td></tr>\n",
       "</table>"
      ],
      "text/plain": [
       "<Table length=104423>\n",
       " EEP  log10_isochrone_age_yr     initial_mass    ...   CFHT_z   phase \n",
       "int64        float64               float64       ...  float64  float64\n",
       "----- ---------------------- ------------------- ... --------- -------\n",
       "   14                    5.0                 0.1 ...   6.55172    -1.0\n",
       "   15                    5.0 0.10264483521052409 ...   6.50233    -1.0\n",
       "   16                    5.0 0.10703921552827966 ...  6.420764    -1.0\n",
       "   17                    5.0 0.11141918414580901 ...  6.340384    -1.0\n",
       "   18                    5.0 0.11578922006201725 ...  6.261096    -1.0\n",
       "   19                    5.0 0.12015251878285713 ...  6.182969    -1.0\n",
       "   20                    5.0 0.12450712023719923 ...   6.10607    -1.0\n",
       "   21                    5.0 0.12885093010385934 ...  6.030513    -1.0\n",
       "   22                    5.0 0.13318409778677381 ...  5.956308    -1.0\n",
       "   23                    5.0 0.13750667894275914 ...  5.883558    -1.0\n",
       "  ...                    ...                 ... ...       ...     ...\n",
       " 1701                   10.3  0.8064105147564941 ... 10.755904     6.0\n",
       " 1702                   10.3  0.8064269061830728 ... 10.791159     6.0\n",
       " 1703                   10.3  0.8064450013644069 ...  10.82576     6.0\n",
       " 1704                   10.3  0.8064655053293757 ... 10.859608     6.0\n",
       " 1705                   10.3  0.8064882807604392 ... 10.892683     6.0\n",
       " 1706                   10.3  0.8065136373043007 ... 10.925058     6.0\n",
       " 1707                   10.3  0.8065421237741218 ... 10.956781     6.0\n",
       " 1708                   10.3  0.8065739626913837 ... 10.987896     6.0\n",
       " 1709                   10.3  0.8066093104715343 ... 11.018475     6.0\n",
       " 1710                   10.3   0.806647992208176 ... 11.048564     6.0"
      ]
     },
     "execution_count": 3,
     "metadata": {},
     "output_type": "execute_result"
    }
   ],
   "source": [
    "Table.read('./MIST_v1.2_vvcrit0.4_CFHTugriz/MIST_v1.2_feh_m0.25_afe_p0.0_vvcrit0.4_CFHTugriz.iso.cmd',\\\n",
    "          format = 'ascii', header_start=-1)"
   ]
  },
  {
   "cell_type": "code",
   "execution_count": 2,
   "metadata": {},
   "outputs": [],
   "source": [
    "f_csv = open( 'nationData.csv', 'w' )\n",
    "SAWriter = csv.writer( f_csv,                 # write to this file object\n",
    "                           delimiter = ',',          # place comma between items we write\n",
    "                           quotechar = '',           # Don't place quotes around strings\n",
    "                           quoting = csv.QUOTE_NONE )# made up of multiple words "
   ]
  },
  {
   "cell_type": "code",
   "execution_count": 3,
   "metadata": {},
   "outputs": [],
   "source": [
    "countries = ['Argentina', 'Bolivia', 'Brazil', 'Chile', 'Colombia', 'Ecuador', 'Guyana',\\\n",
    "             'Paraguay', 'Peru', 'Suriname', 'Uruguay', 'Venezuela']\n",
    "capitals = ['Buenos Aires', 'Sucre', 'Brasilia', 'Santiago', 'Bogota', 'Quito', 'Georgetown',\\\n",
    "             'Asuncion', 'Lima', 'Paramaribo', 'Montevideo', 'Caracas']\n",
    "population_mils = [ 42.8, 10.1, 203.4, 16.9, 46.4, 15.0, 0.7, 6.5, 29.2, 0.5,\\\n",
    "                      3.3, 27.6]"
   ]
  },
  {
   "cell_type": "code",
   "execution_count": 4,
   "metadata": {},
   "outputs": [],
   "source": [
    "SAWriter.writerow(['Data on South American Nations'])\n",
    "SAWriter.writerow(['Country', 'Capital', 'Populaton (millions)'])\n",
    "for i in range(len(countries)):\n",
    "    SAWriter.writerow( [countries[i], capitals[i], population_mils[i]] )\n",
    "f_csv.close()"
   ]
  },
  {
   "cell_type": "code",
   "execution_count": 16,
   "metadata": {},
   "outputs": [
    {
     "name": "stdout",
     "output_type": "stream",
     "text": [
      "<_io.TextIOWrapper name='welcome.txt' mode='w' encoding='UTF-8'>\n"
     ]
    }
   ],
   "source": [
    "f = open( 'welcome.txt', 'w' )\n",
    "print(f)    # see what we got\n"
   ]
  },
  {
   "cell_type": "code",
   "execution_count": 17,
   "metadata": {},
   "outputs": [],
   "source": [
    "topics = ['Data types', 'Loops', 'Functions', 'Arrays', 'Plotting', 'Statistics']"
   ]
  },
  {
   "cell_type": "code",
   "execution_count": 18,
   "metadata": {},
   "outputs": [],
   "source": [
    "f.write( 'Welcome to Physics 77, Fall 2020\\n' ) # the newline command \\n tells Python to start a new line\n",
    "f.write( 'Topics we will learn about include:\\n' )\n",
    "f.write('One more line, please work!!')\n",
    "for top in topics:\n",
    "    f.write( top + '\\n')\n",
    "f.close()                                         # don't forget this part!"
   ]
  },
  {
   "cell_type": "code",
   "execution_count": null,
   "metadata": {},
   "outputs": [],
   "source": []
  }
 ],
 "metadata": {
  "kernelspec": {
   "display_name": "Python 3",
   "language": "python",
   "name": "python3"
  },
  "language_info": {
   "codemirror_mode": {
    "name": "ipython",
    "version": 3
   },
   "file_extension": ".py",
   "mimetype": "text/x-python",
   "name": "python",
   "nbconvert_exporter": "python",
   "pygments_lexer": "ipython3",
   "version": "3.8.3"
  }
 },
 "nbformat": 4,
 "nbformat_minor": 4
}
