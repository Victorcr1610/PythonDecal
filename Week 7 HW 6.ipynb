{
 "cells": [
  {
   "cell_type": "markdown",
   "metadata": {},
   "source": [
    "# Homework 6"
   ]
  },
  {
   "cell_type": "code",
   "execution_count": 8,
   "metadata": {},
   "outputs": [],
   "source": [
    "import numpy as np\n",
    "import scipy as sp\n",
    "import matplotlib.pyplot as plt\n",
    "%matplotlib inline\n",
    "from astropy import units as u\n",
    "import astropy.constants as con\n",
    "import pandas as pd\n",
    "import math"
   ]
  },
  {
   "cell_type": "markdown",
   "metadata": {},
   "source": [
    "This homework is all about useful external libraries that are most common to use in astronomy research. The two most important libraries apart from scipy, numpy, and matplotlib are **astropy** and **pandas**. We explore the basics of these super versatile libraries. "
   ]
  },
  {
   "cell_type": "markdown",
   "metadata": {},
   "source": [
    "# Astropy (50 Points)"
   ]
  },
  {
   "cell_type": "markdown",
   "metadata": {},
   "source": [
    "## CRAZY UNIT CONVERSION!!! (20 Points)"
   ]
  },
  {
   "cell_type": "markdown",
   "metadata": {},
   "source": [
    "As you take more astronomy classes, you will face more and more unit conversion problems - they are annoying. That's why astropy.units is very helpful. Let's do some practices here.\n",
    "\n",
    "The documentations for astropy.units and astropy.constants will very helpful to you.\n",
    "\n",
    "astropy.units documentation: https://docs.astropy.org/en/stable/units/\n",
    "\n",
    "astropy.constants documentation: https://docs.astropy.org/en/stable/constants/\n",
    "\n",
    "NOTE: In this problem, you MUST use astropy.constants when doing calculations involving fundamental constants. Also, you cannot look up values such as solar mass, earth mass, etc. Use the two packages solely."
   ]
  },
  {
   "cell_type": "markdown",
   "metadata": {},
   "source": [
    "### Problem 1) Speed of light (5 Points)\n",
    "\n",
    "What is the speed of light ($c$) in $pc/yr$?"
   ]
  },
  {
   "cell_type": "code",
   "execution_count": 9,
   "metadata": {},
   "outputs": [
    {
     "name": "stdout",
     "output_type": "stream",
     "text": [
      "0.3066013937879528 pc / yr\n"
     ]
    }
   ],
   "source": [
    "c = (con.c).to(u.pc/u.year) \n",
    "\n",
    "print (c)\n"
   ]
  },
  {
   "cell_type": "markdown",
   "metadata": {},
   "source": [
    "### Problem 2) Newton's 2nd Law (5 Points)\n",
    "\n",
    "Recall that NII states \n",
    "$$F =ma\\,\\,.$$\n",
    "Say a force of $97650134N$ is exerted on an object having a mass of $0.0071$ earth mass. What is the acceleration of the object in $AU/days^2$?"
   ]
  },
  {
   "cell_type": "code",
   "execution_count": 10,
   "metadata": {},
   "outputs": [
    {
     "data": {
      "text/latex": [
       "$1.1491707 \\times 10^{-16} \\; \\mathrm{\\frac{AU}{d^{2}}}$"
      ],
      "text/plain": [
       "<Quantity 1.14917074e-16 AU / d2>"
      ]
     },
     "execution_count": 10,
     "metadata": {},
     "output_type": "execute_result"
    }
   ],
   "source": [
    "F = 97650134*u.N\n",
    "m = .0071*u.Mearth\n",
    "a = F/m\n",
    "a.to(u.AU/u.d**2)"
   ]
  },
  {
   "cell_type": "markdown",
   "metadata": {},
   "source": [
    "### Problem 3) Newton's Universal Law of Gravitation (10 Points)\n",
    "\n",
    "Recall that the gravitational acceleration due to an object with mass $m$ at a distance $r$ is given by \n",
    "$$a_g = \\frac{Gm}{r^2}\\,\\,.$$\n",
    "What is the gravitational acceleration due to a planet of $3.1415926$ Jupiter-mass at a distance of $1.523AU$? Give your answer in $pc/yr^2$."
   ]
  },
  {
   "cell_type": "code",
   "execution_count": 11,
   "metadata": {},
   "outputs": [
    {
     "name": "stdout",
     "output_type": "stream",
     "text": [
      "  Name   = Gravitational constant\n",
      "  Value  = 6.6743e-11\n",
      "  Uncertainty  = 1.5e-15\n",
      "  Unit  = m3 / (kg s2)\n",
      "  Reference = CODATA 2018\n"
     ]
    },
    {
     "data": {
      "text/latex": [
       "$2.4744978 \\times 10^{-7} \\; \\mathrm{\\frac{pc}{yr^{2}}}$"
      ],
      "text/plain": [
       "<Quantity 2.47449776e-07 pc / yr2>"
      ]
     },
     "execution_count": 11,
     "metadata": {},
     "output_type": "execute_result"
    }
   ],
   "source": [
    "G = con.G\n",
    "print(G)\n",
    "m = 3.1415926 * u.M_jup\n",
    "r = 1.523*u.AU\n",
    "acc = (G*m)/r**2\n",
    "acc.to(u.pc/u.yr**2)"
   ]
  },
  {
   "cell_type": "markdown",
   "metadata": {},
   "source": [
    "## Visualising Coordinate Transformation (30 Points)"
   ]
  },
  {
   "cell_type": "markdown",
   "metadata": {},
   "source": [
    "We introduced coordinate transformation using astropy, but maybe that was too abstract to you, so let's use this problem as a way for you to visualise this process. Each part will be worth **5 Points**\n",
    "\n",
    "There are several things you need to do:\n",
    "1. Open up the FITS file named 'clusters.fits' (this part of the code is written for you already)\n",
    "\n",
    "\n",
    "2. Read it as a table using astropy.table (you will have to import the packages you need and write your own code from hereafter)\n",
    "\n",
    "\n",
    "3. Plot the positions of all the objects in the table, COLOUR-CODED by their types (there is a column named 'CLASS'), with RA on the x-axis and DEC on the y-axis. You should see a curved trend with a huge dip in the middle.\n",
    "\n",
    "\n",
    "4. Carry out a coordinate transformation from the ICRS coordinates to the galactic coordinates - there is a column named \"DISTANCE\" which you will need. \n",
    "\n",
    "\n",
    "5. Now plot the position of all the objects in the galactic coordinates, with $\\ell$ on the x-axis and $b$ on the y-axis; again, colour-code everything by their \"CLASS\". If you did everything correctly, you should see that the curve in the previous plot resembles a horizontal band. \n",
    "\n",
    "\n",
    "6. Answer this question: What is that curved band in the first plot and the horizontal band in the second plot? Does it make sense that the band got straightened up? Why?\n",
    "\n",
    "\n",
    "Note: When you make your plots, please include the axis labels with units and the legend."
   ]
  },
  {
   "cell_type": "code",
   "execution_count": 12,
   "metadata": {},
   "outputs": [],
   "source": [
    "from astropy.io import fits\n",
    "\n",
    "from astropy.table import Table\n",
    "from astropy.coordinates import SkyCoord \n",
    "from astropy.coordinates import ICRS, Galactic, FK4, FK5"
   ]
  },
  {
   "cell_type": "code",
   "execution_count": 13,
   "metadata": {},
   "outputs": [
    {
     "data": {
      "text/html": [
       "<i>Table length=3208</i>\n",
       "<table id=\"table140591064928560\" class=\"table-striped table-bordered table-condensed\">\n",
       "<thead><tr><th>SOURCE_NUMBER</th><th>NAME</th><th>BROAD_TYPE</th><th>CLUSTER_STATUS</th><th>RA</th><th>DEC</th><th>LII</th><th>BII</th><th>CORE_RADIUS</th><th>CENTRAL_RADIUS</th><th>CLUSTER_RADIUS</th><th>PM_RA</th><th>PM_DEC</th><th>PM_TOT_ERROR</th><th>RAD_VEL</th><th>RAD_VEL_ERROR</th><th>NUM_RAD_VEL_STARS</th><th>NUM_CORE_STARS</th><th>NUM_CENTRAL_STARS</th><th>NUM_CLUSTER_STARS</th><th>DISTANCE</th><th>E_BV</th><th>DISTANCE_MODULUS</th><th>E_JK</th><th>E_JH</th><th>DELTA_H</th><th>LOG_AGE</th><th>LOG_AGE_ERROR</th><th>NUM_LOG_AGE_STARS</th><th>KING_CORE_RADIUS</th><th>KING_CORE_RADIUS_ERROR</th><th>KING_TIDAL_RADIUS</th><th>KING_TIDAL_RADIUS_ERROR</th><th>KING_NORM_FACTOR</th><th>KING_NORM_FACTOR_ERROR</th><th>REFERENCE_CODE</th><th>CLUSTER_TYPE</th><th>METALLICITY</th><th>METALLICITY_ERROR</th><th>NUM_METALLICITY_STARS</th><th>COMMENTS</th><th>CLASS</th></tr></thead>\n",
       "<thead><tr><th></th><th></th><th></th><th></th><th>DEGREE</th><th>DEGREE</th><th>DEGREE</th><th>DEGREE</th><th>DEGREE</th><th>DEGREE</th><th>DEGREE</th><th>MAS/YR</th><th>MAS/YR</th><th>MAS/YR</th><th>KM/S</th><th>KM/S</th><th></th><th></th><th></th><th></th><th>PC</th><th>MAG</th><th>MAG</th><th>MAG</th><th>MAG</th><th>MAG</th><th>LOG(YR)</th><th>LOG(YR)</th><th></th><th>PC</th><th>PC</th><th>PC</th><th>PC</th><th>1 / PC2</th><th>1 / PC2</th><th></th><th></th><th></th><th></th><th></th><th></th><th></th></tr></thead>\n",
       "<thead><tr><th>int32</th><th>str17</th><th>str10</th><th>str14</th><th>float64</th><th>float64</th><th>float64</th><th>float64</th><th>float64</th><th>float64</th><th>float64</th><th>float64</th><th>float64</th><th>float64</th><th>float64</th><th>float64</th><th>int32</th><th>int32</th><th>int32</th><th>int32</th><th>float64</th><th>float64</th><th>float64</th><th>float64</th><th>float64</th><th>float64</th><th>float64</th><th>float64</th><th>int32</th><th>float64</th><th>float64</th><th>float64</th><th>float64</th><th>float64</th><th>float64</th><th>str14</th><th>str12</th><th>float64</th><th>float64</th><th>int32</th><th>str249</th><th>str52</th></tr></thead>\n",
       "<tr><td>4688</td><td>MWSC 4688</td><td></td><td></td><td>357.975</td><td>-86.720</td><td>303.907</td><td>-30.295</td><td>0.020</td><td>0.100</td><td>0.185</td><td>3.20</td><td>-5.00</td><td>1.13</td><td>0.00</td><td>0.00</td><td>0</td><td>2</td><td>22</td><td>57</td><td>1336</td><td>0.219</td><td>10.700</td><td>0.105</td><td>0.070</td><td>0.000</td><td>9.390</td><td>0.000</td><td>0</td><td>1.05</td><td>0.39</td><td>7.01</td><td>2.51</td><td>2.51</td><td>0.67</td><td>AIPK</td><td></td><td>0.000</td><td>0.000</td><td>0</td><td></td><td>OPEN STAR CLUSTER</td></tr>\n",
       "<tr><td>5684</td><td>MWSC 5684</td><td></td><td></td><td>193.429</td><td>-86.648</td><td>302.968</td><td>-23.776</td><td>0.020</td><td>0.080</td><td>0.155</td><td>-13.04</td><td>0.17</td><td>1.05</td><td>0.00</td><td>0.00</td><td>0</td><td>3</td><td>19</td><td>52</td><td>1432</td><td>0.375</td><td>10.900</td><td>0.180</td><td>0.120</td><td>0.020</td><td>9.180</td><td>0.023</td><td>3</td><td>0.61</td><td>0.42</td><td>7.54</td><td>5.79</td><td>1.88</td><td>1.09</td><td>ARIS</td><td></td><td>0.000</td><td>0.000</td><td>0</td><td></td><td>OPEN STAR CLUSTER</td></tr>\n",
       "<tr><td>5692</td><td>MWSC 5692</td><td></td><td></td><td>266.835</td><td>-86.610</td><td>306.562</td><td>-26.146</td><td>0.025</td><td>0.095</td><td>0.135</td><td>-6.22</td><td>-9.02</td><td>1.38</td><td>0.00</td><td>0.00</td><td>0</td><td>4</td><td>18</td><td>28</td><td>1555</td><td>0.437</td><td>11.100</td><td>0.210</td><td>0.140</td><td>0.020</td><td>8.930</td><td>0.000</td><td>0</td><td>0.76</td><td>0.56</td><td>5.18</td><td>3.82</td><td>1.51</td><td>0.77</td><td>ARIS</td><td></td><td>0.000</td><td>0.000</td><td>0</td><td></td><td>OPEN STAR CLUSTER</td></tr>\n",
       "<tr><td>4005</td><td>MWSC 4005</td><td></td><td></td><td>2.865</td><td>-85.480</td><td>303.852</td><td>-31.577</td><td>0.012</td><td>0.100</td><td>0.165</td><td>9.31</td><td>-1.47</td><td>0.95</td><td>0.00</td><td>0.00</td><td>0</td><td>3</td><td>26</td><td>42</td><td>1159</td><td>0.250</td><td>10.400</td><td>0.120</td><td>0.080</td><td>-0.020</td><td>9.375</td><td>0.000</td><td>0</td><td>0.36</td><td>0.13</td><td>4.69</td><td>1.85</td><td>15.94</td><td>6.19</td><td>AIPK</td><td></td><td>0.000</td><td>0.000</td><td>0</td><td></td><td>OPEN STAR CLUSTER</td></tr>\n",
       "<tr><td>4176</td><td>MWSC 4176</td><td></td><td></td><td>216.825</td><td>-85.420</td><td>304.950</td><td>-22.929</td><td>0.025</td><td>0.150</td><td>0.280</td><td>-9.41</td><td>0.12</td><td>0.69</td><td>0.00</td><td>0.00</td><td>0</td><td>4</td><td>53</td><td>155</td><td>1093</td><td>0.333</td><td>10.300</td><td>0.160</td><td>0.107</td><td>-0.030</td><td>9.315</td><td>0.000</td><td>0</td><td>0.97</td><td>0.24</td><td>6.84</td><td>1.58</td><td>6.46</td><td>1.31</td><td>AIPK</td><td></td><td>0.000</td><td>0.000</td><td>0</td><td></td><td>OPEN STAR CLUSTER</td></tr>\n",
       "<tr><td>2260</td><td>ESO 008-06</td><td>R</td><td>C</td><td>224.227</td><td>-83.445</td><td>306.593</td><td>-21.485</td><td>0.025</td><td>0.130</td><td>0.185</td><td>-5.26</td><td>-4.21</td><td>0.80</td><td>0.00</td><td>0.00</td><td>0</td><td>5</td><td>46</td><td>78</td><td>1380</td><td>0.312</td><td>10.800</td><td>0.150</td><td>0.100</td><td>0.030</td><td>9.300</td><td>0.000</td><td>0</td><td>0.66</td><td>0.25</td><td>5.60</td><td>2.18</td><td>5.93</td><td>1.91</td><td>DIAS</td><td></td><td>0.000</td><td>0.000</td><td>0</td><td>SPARSE; CENTER IS SHIFTED TO 14.9485H,-83.445D.</td><td>OPEN STAR CLUSTER</td></tr>\n",
       "<tr><td>4219</td><td>MWSC 4219</td><td></td><td></td><td>235.560</td><td>-83.195</td><td>307.905</td><td>-22.041</td><td>0.015</td><td>0.115</td><td>0.200</td><td>-9.26</td><td>-3.14</td><td>0.74</td><td>0.00</td><td>0.00</td><td>0</td><td>2</td><td>36</td><td>95</td><td>1606</td><td>0.375</td><td>11.150</td><td>0.180</td><td>0.120</td><td>0.020</td><td>9.100</td><td>0.000</td><td>0</td><td>2.81</td><td>0.76</td><td>9.78</td><td>2.13</td><td>1.71</td><td>0.41</td><td>AIPK</td><td></td><td>0.000</td><td>0.000</td><td>0</td><td></td><td>OPEN STAR CLUSTER</td></tr>\n",
       "<tr><td>5575</td><td>MWSC 5575</td><td></td><td></td><td>29.925</td><td>-83.050</td><td>300.484</td><td>-33.751</td><td>0.015</td><td>0.090</td><td>0.150</td><td>6.33</td><td>-2.50</td><td>1.96</td><td>0.00</td><td>0.00</td><td>0</td><td>1</td><td>10</td><td>20</td><td>2191</td><td>0.302</td><td>11.800</td><td>0.145</td><td>0.097</td><td>0.015</td><td>9.200</td><td>0.000</td><td>0</td><td>1.95</td><td>1.00</td><td>12.13</td><td>6.13</td><td>0.79</td><td>0.18</td><td>ARIS</td><td></td><td>0.000</td><td>0.000</td><td>0</td><td>POOR RDP.</td><td>OPEN STAR CLUSTER</td></tr>\n",
       "<tr><td>4682</td><td>MWSC 4682</td><td></td><td></td><td>355.845</td><td>-82.960</td><td>305.407</td><td>-33.838</td><td>0.020</td><td>0.115</td><td>0.190</td><td>5.87</td><td>0.28</td><td>0.94</td><td>0.00</td><td>0.00</td><td>0</td><td>2</td><td>22</td><td>58</td><td>1065</td><td>0.354</td><td>10.250</td><td>0.170</td><td>0.113</td><td>0.000</td><td>9.280</td><td>0.061</td><td>4</td><td>0.43</td><td>0.24</td><td>8.27</td><td>5.39</td><td>5.33</td><td>3.02</td><td>AIPK</td><td></td><td>0.000</td><td>0.000</td><td>0</td><td></td><td>OPEN STAR CLUSTER</td></tr>\n",
       "<tr><td>...</td><td>...</td><td>...</td><td>...</td><td>...</td><td>...</td><td>...</td><td>...</td><td>...</td><td>...</td><td>...</td><td>...</td><td>...</td><td>...</td><td>...</td><td>...</td><td>...</td><td>...</td><td>...</td><td>...</td><td>...</td><td>...</td><td>...</td><td>...</td><td>...</td><td>...</td><td>...</td><td>...</td><td>...</td><td>...</td><td>...</td><td>...</td><td>...</td><td>...</td><td>...</td><td>...</td><td>...</td><td>...</td><td>...</td><td>...</td><td>...</td><td>...</td></tr>\n",
       "<tr><td>5377</td><td>MWSC 5377</td><td></td><td></td><td>323.391</td><td>78.256</td><td>113.504</td><td>19.191</td><td>0.011</td><td>0.085</td><td>0.160</td><td>1.61</td><td>1.94</td><td>0.52</td><td>0.00</td><td>0.00</td><td>0</td><td>1</td><td>22</td><td>44</td><td>1434</td><td>0.364</td><td>10.900</td><td>0.175</td><td>0.117</td><td>-0.030</td><td>9.245</td><td>0.033</td><td>2</td><td>0.55</td><td>0.17</td><td>7.14</td><td>2.45</td><td>10.57</td><td>3.06</td><td>ARIN</td><td></td><td>0.000</td><td>0.000</td><td>0</td><td></td><td>OPEN STAR CLUSTER</td></tr>\n",
       "<tr><td>5076</td><td>MWSC 5076</td><td></td><td></td><td>161.678</td><td>78.450</td><td>130.372</td><td>36.813</td><td>0.020</td><td>0.070</td><td>0.120</td><td>-1.67</td><td>1.54</td><td>0.74</td><td>0.00</td><td>0.00</td><td>0</td><td>3</td><td>8</td><td>17</td><td>9842</td><td>0.729</td><td>15.200</td><td>0.350</td><td>0.233</td><td>0.000</td><td>8.850</td><td>0.000</td><td>0</td><td>2.85</td><td>1.36</td><td>42.52</td><td>21.70</td><td>0.10</td><td>0.05</td><td>ARIN</td><td></td><td>0.000</td><td>0.000</td><td>0</td><td></td><td>OPEN STAR CLUSTER</td></tr>\n",
       "<tr><td>164</td><td>FSR 0532</td><td>R</td><td>O</td><td>31.297</td><td>81.204</td><td>125.860</td><td>18.754</td><td>0.035</td><td>0.100</td><td>0.180</td><td>-0.85</td><td>-1.72</td><td>0.65</td><td>0.00</td><td>0.00</td><td>0</td><td>3</td><td>17</td><td>43</td><td>2589</td><td>0.416</td><td>12.200</td><td>0.200</td><td>0.133</td><td>0.000</td><td>9.150</td><td>0.000</td><td>0</td><td>1.68</td><td>0.56</td><td>13.39</td><td>4.54</td><td>1.31</td><td>0.31</td><td>FPOS</td><td></td><td>0.000</td><td>0.000</td><td>0</td><td>VERY SPARSE.</td><td>OPEN STAR CLUSTER</td></tr>\n",
       "<tr><td>3742</td><td>FSR 0492</td><td>R</td><td>C</td><td>353.655</td><td>81.230</td><td>119.895</td><td>18.815</td><td>0.040</td><td>0.100</td><td>0.205</td><td>-3.55</td><td>-1.07</td><td>0.61</td><td>0.00</td><td>0.00</td><td>0</td><td>8</td><td>11</td><td>26</td><td>2650</td><td>0.450</td><td>12.261</td><td>0.216</td><td>0.144</td><td>0.020</td><td>8.610</td><td>0.000</td><td>1</td><td>1.99</td><td>1.13</td><td>12.80</td><td>7.41</td><td>0.60</td><td>0.19</td><td>FPOS</td><td></td><td>0.000</td><td>0.000</td><td>0</td><td></td><td>OPEN STAR CLUSTER</td></tr>\n",
       "<tr><td>14</td><td>FSR 0504</td><td></td><td></td><td>1.455</td><td>81.840</td><td>121.230</td><td>19.119</td><td>0.010</td><td>0.045</td><td>0.080</td><td>-3.57</td><td>7.83</td><td>0.68</td><td>0.00</td><td>0.00</td><td>0</td><td>2</td><td>10</td><td>14</td><td>3744</td><td>0.104</td><td>12.900</td><td>0.050</td><td>0.033</td><td>-0.020</td><td>9.450</td><td>0.000</td><td>0</td><td>0.49</td><td>0.19</td><td>10.62</td><td>4.26</td><td>5.03</td><td>2.46</td><td>FPOS</td><td></td><td>0.000</td><td>0.000</td><td>0</td><td></td><td>OPEN STAR CLUSTER</td></tr>\n",
       "<tr><td>291</td><td>SAI 30</td><td>R</td><td>C</td><td>55.185</td><td>82.220</td><td>128.545</td><td>21.267</td><td>0.010</td><td>0.035</td><td>0.080</td><td>-1.83</td><td>2.54</td><td>1.02</td><td>0.00</td><td>0.00</td><td>0</td><td>2</td><td>7</td><td>14</td><td>2600</td><td>0.881</td><td>12.358</td><td>0.423</td><td>0.282</td><td>0.020</td><td>8.148</td><td>0.000</td><td>1</td><td>0.38</td><td>0.17</td><td>8.24</td><td>4.01</td><td>7.35</td><td>3.75</td><td>DIAS</td><td></td><td>0.000</td><td>0.000</td><td>0</td><td></td><td>OPEN STAR CLUSTER</td></tr>\n",
       "<tr><td>4674</td><td>MWSC 4674</td><td></td><td></td><td>350.535</td><td>84.010</td><td>120.489</td><td>21.566</td><td>0.025</td><td>0.140</td><td>0.210</td><td>-2.25</td><td>0.10</td><td>0.45</td><td>0.00</td><td>0.00</td><td>0</td><td>2</td><td>32</td><td>63</td><td>1166</td><td>0.208</td><td>10.400</td><td>0.100</td><td>0.067</td><td>-0.050</td><td>9.550</td><td>0.000</td><td>0</td><td>0.94</td><td>0.67</td><td>7.44</td><td>5.56</td><td>1.43</td><td>0.57</td><td>AIPK</td><td></td><td>0.000</td><td>0.000</td><td>0</td><td></td><td>OPEN STAR CLUSTER</td></tr>\n",
       "<tr><td>74</td><td>NGC 188</td><td></td><td></td><td>11.850</td><td>85.255</td><td>122.842</td><td>22.384</td><td>0.035</td><td>0.295</td><td>0.570</td><td>0.15</td><td>-1.43</td><td>0.11</td><td>-45.00</td><td>2.13</td><td>21</td><td>30</td><td>402</td><td>724</td><td>2000</td><td>0.085</td><td>11.533</td><td>0.041</td><td>0.027</td><td>-0.015</td><td>9.650</td><td>0.000</td><td>0</td><td>2.36</td><td>0.24</td><td>22.86</td><td>2.50</td><td>15.59</td><td>1.02</td><td>DIAS</td><td></td><td>-0.010</td><td>0.090</td><td>21</td><td></td><td>OPEN STAR CLUSTER</td></tr>\n",
       "<tr><td>5010</td><td>MWSC 5010</td><td></td><td></td><td>94.575</td><td>86.035</td><td>127.317</td><td>26.489</td><td>0.020</td><td>0.077</td><td>0.130</td><td>2.68</td><td>-2.38</td><td>0.69</td><td>0.00</td><td>0.00</td><td>0</td><td>3</td><td>8</td><td>19</td><td>3553</td><td>0.146</td><td>12.800</td><td>0.070</td><td>0.047</td><td>0.000</td><td>9.450</td><td>0.000</td><td>0</td><td>0.66</td><td>0.42</td><td>15.10</td><td>9.10</td><td>1.05</td><td>0.89</td><td>ARIN</td><td></td><td>0.000</td><td>0.000</td><td>0</td><td></td><td>OPEN STAR CLUSTER</td></tr>\n",
       "<tr><td>5004</td><td>MWSC 5004</td><td></td><td></td><td>64.470</td><td>86.183</td><td>126.225</td><td>24.720</td><td>0.020</td><td>0.100</td><td>0.170</td><td>0.04</td><td>2.26</td><td>0.61</td><td>0.00</td><td>0.00</td><td>0</td><td>2</td><td>17</td><td>24</td><td>2274</td><td>0.406</td><td>11.915</td><td>0.195</td><td>0.130</td><td>0.000</td><td>9.215</td><td>0.000</td><td>0</td><td>1.86</td><td>0.62</td><td>12.90</td><td>4.36</td><td>1.38</td><td>0.26</td><td>ARIN</td><td></td><td>0.000</td><td>0.000</td><td>0</td><td></td><td>OPEN STAR CLUSTER</td></tr>\n",
       "</table>"
      ],
      "text/plain": [
       "<Table length=3208>\n",
       "SOURCE_NUMBER ...                        CLASS                        \n",
       "              ...                                                     \n",
       "    int32     ...                        str52                        \n",
       "------------- ... ----------------------------------------------------\n",
       "         4688 ...                                   OPEN STAR CLUSTER\n",
       "\n",
       "         5684 ...                                   OPEN STAR CLUSTER\n",
       "\n",
       "         5692 ...                                   OPEN STAR CLUSTER\n",
       "\n",
       "         4005 ...                                   OPEN STAR CLUSTER\n",
       "\n",
       "         4176 ...                                   OPEN STAR CLUSTER\n",
       "\n",
       "         2260 ...                                   OPEN STAR CLUSTER\n",
       "\n",
       "         4219 ...                                   OPEN STAR CLUSTER\n",
       "\n",
       "         5575 ...                                   OPEN STAR CLUSTER\n",
       "\n",
       "         4682 ...                                   OPEN STAR CLUSTER\n",
       "\n",
       "          ... ...                                                  ...\n",
       "         5377 ...                                   OPEN STAR CLUSTER\n",
       "\n",
       "         5076 ...                                   OPEN STAR CLUSTER\n",
       "\n",
       "          164 ...                                   OPEN STAR CLUSTER\n",
       "\n",
       "         3742 ...                                   OPEN STAR CLUSTER\n",
       "\n",
       "           14 ...                                   OPEN STAR CLUSTER\n",
       "\n",
       "          291 ...                                   OPEN STAR CLUSTER\n",
       "\n",
       "         4674 ...                                   OPEN STAR CLUSTER\n",
       "\n",
       "           74 ...                                   OPEN STAR CLUSTER\n",
       "\n",
       "         5010 ...                                   OPEN STAR CLUSTER\n",
       "\n",
       "         5004 ...                                   OPEN STAR CLUSTER"
      ]
     },
     "execution_count": 13,
     "metadata": {},
     "output_type": "execute_result"
    }
   ],
   "source": [
    "fits_file = fits.open('clusters.fits')\n",
    "\n",
    "data = Table.read(fits_file)\n",
    "data \n"
   ]
  },
  {
   "cell_type": "code",
   "execution_count": 14,
   "metadata": {},
   "outputs": [
    {
     "data": {
      "image/png": "[encoded data removed]",
      "text/plain": [
       "<Figure size 432x288 with 1 Axes>"
      ]
     },
     "metadata": {
      "needs_background": "light"
     },
     "output_type": "display_data"
    }
   ],
   "source": [
    "RAs = data['RA']\n",
    "DECs = data['DEC']\n",
    "Classes = data['CLASS']\n",
    "Dis = data['DISTANCE']\n",
    "\n",
    "plt.figure()\n",
    "plt.title('Clusters')\n",
    "plt.plot(RAs,DECs,'g.', label = 'Stars')\n",
    "plt.legend()\n",
    "plt.show()\n",
    "#if (Classes == 'OPEN STAR CLUSTER'):\n",
    "#    plt.plot('b')\n",
    "#else: \n",
    "#    plt.plot ('r')\n",
    "#I don't know how to color code these data points, above is what I tried :3\n"
   ]
  },
  {
   "cell_type": "code",
   "execution_count": 7,
   "metadata": {},
   "outputs": [
    {
     "name": "stdout",
     "output_type": "stream",
     "text": [
      "                       CLASS                        \n",
      "----------------------------------------------------\n",
      "                                  OPEN STAR CLUSTER\n",
      "\n",
      "                                  OPEN STAR CLUSTER\n",
      "\n",
      "                                  OPEN STAR CLUSTER\n",
      "\n",
      "                                  OPEN STAR CLUSTER\n",
      "\n",
      "                                  OPEN STAR CLUSTER\n",
      "\n",
      "                                  OPEN STAR CLUSTER\n",
      "\n",
      "                                  OPEN STAR CLUSTER\n",
      "\n",
      "                                  OPEN STAR CLUSTER\n",
      "\n",
      "                                  OPEN STAR CLUSTER\n",
      "\n",
      "GLOBULAR CLUSTER EXTENDED GALACTIC OR EXTRAGALACTIC\n",
      "\n",
      "                                                 ...\n",
      "                                  OPEN STAR CLUSTER\n",
      "\n",
      "                                  OPEN STAR CLUSTER\n",
      "\n",
      "                                  OPEN STAR CLUSTER\n",
      "\n",
      "                                  OPEN STAR CLUSTER\n",
      "\n",
      "                                  OPEN STAR CLUSTER\n",
      "\n",
      "                                  OPEN STAR CLUSTER\n",
      "\n",
      "                                  OPEN STAR CLUSTER\n",
      "\n",
      "                                  OPEN STAR CLUSTER\n",
      "\n",
      "                                  OPEN STAR CLUSTER\n",
      "\n",
      "                                  OPEN STAR CLUSTER\n",
      "\n",
      "                                  OPEN STAR CLUSTER\n",
      "\n",
      "Length = 3208 rows\n"
     ]
    }
   ],
   "source": [
    "print(Classes)"
   ]
  },
  {
   "cell_type": "code",
   "execution_count": 12,
   "metadata": {},
   "outputs": [
    {
     "ename": "TypeError",
     "evalue": "unsupported operand type(s) for *: 'Column' and 'Unit'",
     "output_type": "error",
     "traceback": [
      "\u001b[0;31m---------------------------------------------------------------------------\u001b[0m",
      "\u001b[0;31mTypeError\u001b[0m                                 Traceback (most recent call last)",
      "\u001b[0;32m<ipython-input-12-033b676bde1f>\u001b[0m in \u001b[0;36m<module>\u001b[0;34m\u001b[0m\n\u001b[0;32m----> 1\u001b[0;31m \u001b[0micrs\u001b[0m \u001b[0;34m=\u001b[0m \u001b[0mSkyCoord\u001b[0m\u001b[0;34m(\u001b[0m\u001b[0mra\u001b[0m\u001b[0;34m=\u001b[0m\u001b[0mRAs\u001b[0m\u001b[0;34m*\u001b[0m\u001b[0mu\u001b[0m\u001b[0;34m.\u001b[0m\u001b[0mdeg\u001b[0m\u001b[0;34m,\u001b[0m\u001b[0mdec\u001b[0m\u001b[0;34m=\u001b[0m\u001b[0mDECs\u001b[0m\u001b[0;34m*\u001b[0m\u001b[0mu\u001b[0m\u001b[0;34m.\u001b[0m\u001b[0mdeg\u001b[0m\u001b[0;34m)\u001b[0m\u001b[0;34m\u001b[0m\u001b[0;34m\u001b[0m\u001b[0m\n\u001b[0m\u001b[1;32m      2\u001b[0m \u001b[0;31m# IDK what happened here, I tried a lot of things but I still got this error\u001b[0m\u001b[0;34m\u001b[0m\u001b[0;34m\u001b[0m\u001b[0;34m\u001b[0m\u001b[0m\n\u001b[1;32m      3\u001b[0m \u001b[0;31m# On the class recording, when Yilun did it, it worked fine lol 😔\u001b[0m\u001b[0;34m\u001b[0m\u001b[0;34m\u001b[0m\u001b[0;34m\u001b[0m\u001b[0m\n",
      "\u001b[0;31mTypeError\u001b[0m: unsupported operand type(s) for *: 'Column' and 'Unit'"
     ]
    }
   ],
   "source": [
    "icrs = SkyCoord(ra=RAs*u.deg,dec=DECs*u.deg)\n",
    "# IDK what happened here, I tried a lot of things but I still got this error\n",
    "# On the class recording, when Yilun did it, it worked fine lol 😔"
   ]
  },
  {
   "cell_type": "code",
   "execution_count": 13,
   "metadata": {},
   "outputs": [
    {
     "ename": "NameError",
     "evalue": "name 'icrs' is not defined",
     "output_type": "error",
     "traceback": [
      "\u001b[0;31m---------------------------------------------------------------------------\u001b[0m",
      "\u001b[0;31mNameError\u001b[0m                                 Traceback (most recent call last)",
      "\u001b[0;32m<ipython-input-13-a4bb7f53c22a>\u001b[0m in \u001b[0;36m<module>\u001b[0;34m\u001b[0m\n\u001b[0;32m----> 1\u001b[0;31m \u001b[0mGALA\u001b[0m \u001b[0;34m=\u001b[0m \u001b[0micrs\u001b[0m\u001b[0;34m.\u001b[0m\u001b[0mtransform_to\u001b[0m\u001b[0;34m(\u001b[0m\u001b[0;34m'galactic'\u001b[0m\u001b[0;34m)\u001b[0m\u001b[0;34m\u001b[0m\u001b[0;34m\u001b[0m\u001b[0m\n\u001b[0m\u001b[1;32m      2\u001b[0m \u001b[0mGALA\u001b[0m\u001b[0;34m\u001b[0m\u001b[0;34m\u001b[0m\u001b[0m\n\u001b[1;32m      3\u001b[0m \u001b[0mplt\u001b[0m\u001b[0;34m.\u001b[0m\u001b[0mscatter\u001b[0m\u001b[0;34m(\u001b[0m\u001b[0mGALA\u001b[0m\u001b[0;34m.\u001b[0m\u001b[0ml\u001b[0m\u001b[0;34m,\u001b[0m \u001b[0mGALA\u001b[0m\u001b[0;34m.\u001b[0m\u001b[0mb\u001b[0m\u001b[0;34m,\u001b[0m \u001b[0mlabel\u001b[0m \u001b[0;34m=\u001b[0m \u001b[0;34m'Star Clusters'\u001b[0m\u001b[0;34m)\u001b[0m\u001b[0;34m\u001b[0m\u001b[0;34m\u001b[0m\u001b[0m\n\u001b[1;32m      4\u001b[0m \u001b[0mplt\u001b[0m\u001b[0;34m.\u001b[0m\u001b[0mlegend\u001b[0m\u001b[0;34m\u001b[0m\u001b[0;34m\u001b[0m\u001b[0m\n\u001b[1;32m      5\u001b[0m \u001b[0mplt\u001b[0m\u001b[0;34m.\u001b[0m\u001b[0mshow\u001b[0m\u001b[0;34m(\u001b[0m\u001b[0;34m)\u001b[0m\u001b[0;34m\u001b[0m\u001b[0;34m\u001b[0m\u001b[0m\n",
      "\u001b[0;31mNameError\u001b[0m: name 'icrs' is not defined"
     ]
    }
   ],
   "source": [
    "GALA = icrs.transform_to('galactic')\n",
    "GALA\n",
    "plt.scatter(GALA.l, GALA.b, label = 'Star Clusters')\n",
    "plt.legend\n",
    "plt.show()"
   ]
  },
  {
   "cell_type": "markdown",
   "metadata": {},
   "source": [
    "(DOUBLE CLICK HERE TO ANSWER QUESTION 6):\n",
    "\n",
    "YOUR ANSWER: I don't know, but based off the lecture, I think the band became \n",
    "straight because the plot is transformed and thus our perspective too. "
   ]
  },
  {
   "cell_type": "markdown",
   "metadata": {},
   "source": [
    "# Pandas (40 Points)\n",
    "\n",
    "One of the most efficient and easy to use libraries for importing data files. We will explore the basics here.\n",
    "\n",
    "Let's import some data that represents the position of a ball being thrown off the roof of Campbell Hall. Using some basic kinematics we can derive the following equation.\n",
    "\n",
    "$$y(t) = -\\frac{1}{2} g t^2 + v_{0,y} t + y_0$$\n",
    "\n",
    "For this problem we need to import our position measurements from our fellow colleagues in our research group.\n",
    "\n",
    "<img src='diagram.jpeg' width=\"600\" height=\"400\"> "
   ]
  },
  {
   "cell_type": "markdown",
   "metadata": {},
   "source": [
    "## Problem 5 (5 Points)\n",
    "\n",
    "Your job for this problem is to simply read in the file named **\"projectile.csv\"** using the pandas library (DONT USE `numpy`). Print out your DataFrame so we can see what the data looks like as a table."
   ]
  },
  {
   "cell_type": "code",
   "execution_count": 14,
   "metadata": {},
   "outputs": [
    {
     "name": "stdout",
     "output_type": "stream",
     "text": [
      "    Unnamed: 0   Time[s]  Position[m]\n",
      "0            0  0.000000    95.000000\n",
      "1            1  0.097959    96.128490\n",
      "2            2  0.195918   102.162939\n",
      "3            3  0.293878   103.103347\n",
      "4            4  0.391837   102.949714\n",
      "5            5  0.489796   102.702041\n",
      "6            6  0.587755   109.360326\n",
      "7            7  0.685714   101.924571\n",
      "8            8  0.783673   106.394775\n",
      "9            9  0.881633   108.770939\n",
      "10          10  0.979592   106.053061\n",
      "11          11  1.077551   107.241143\n",
      "12          12  1.175510   104.335184\n",
      "13          13  1.273469   106.335184\n",
      "14          14  1.371429   107.241143\n",
      "15          15  1.469388   105.053061\n",
      "16          16  1.567347   102.770939\n",
      "17          17  1.665306   102.394775\n",
      "18          18  1.763265   105.924571\n",
      "19          19  1.861224   109.360326\n",
      "20          20  1.959184   102.702041\n",
      "21          21  2.057143   104.949714\n",
      "22          22  2.155102   100.103347\n",
      "23          23  2.253061   106.162939\n",
      "24          24  2.351020    97.128490\n",
      "25          25  2.448980   101.000000\n",
      "26          26  2.546939   101.777469\n",
      "27          27  2.644898    96.460898\n",
      "28          28  2.742857   101.050286\n",
      "29          29  2.840816    98.545633\n",
      "30          30  2.938776    91.946939\n",
      "31          31  3.036735    89.254204\n",
      "32          32  3.134694    91.467429\n",
      "33          33  3.232653    83.586612\n",
      "34          34  3.330612    90.611755\n",
      "35          35  3.428571    80.542857\n",
      "36          36  3.526531    85.379918\n",
      "37          37  3.624490    84.122939\n",
      "38          38  3.722449    79.771918\n",
      "39          39  3.820408    78.326857\n",
      "40          40  3.918367    67.787755\n",
      "41          41  4.016327    68.154612\n",
      "42          42  4.114286    67.427429\n",
      "43          43  4.212245    59.606204\n",
      "44          44  4.310204    64.690939\n",
      "45          45  4.408163    60.681633\n",
      "46          46  4.506122    51.578286\n",
      "47          47  4.604082    55.380898\n",
      "48          48  4.702041    50.089469\n",
      "49          49  4.800000    47.704000\n"
     ]
    }
   ],
   "source": [
    "Data_frame1 = pd.read_csv(\"projectile.csv\")\n",
    "print (Data_frame1)"
   ]
  },
  {
   "cell_type": "markdown",
   "metadata": {},
   "source": [
    "## Problem 6 (5 Points)\n",
    "\n",
    "Now load your DataFrame columns into numpy arrays and make a plot of Position vs. Time."
   ]
  },
  {
   "cell_type": "code",
   "execution_count": 15,
   "metadata": {},
   "outputs": [
    {
     "data": {
      "image/png": "[encoded data removed]",
      "text/plain": [
       "<Figure size 576x432 with 1 Axes>"
      ]
     },
     "metadata": {
      "needs_background": "light"
     },
     "output_type": "display_data"
    }
   ],
   "source": [
    "time = Data_frame1['Time[s]'].to_numpy()\n",
    "position = Data_frame1['Position[m]'].to_numpy()\n",
    "\n",
    "plt.figure(figsize=(8,6))\n",
    "plt.plot(time, position, 100, label = 'Projectile')\n",
    "plt.title('Time vs Position')\n",
    "plt.xlabel('Time')\n",
    "plt.ylabel('Position')\n",
    "plt.legend()\n",
    "plt.show()"
   ]
  },
  {
   "cell_type": "markdown",
   "metadata": {},
   "source": [
    "## Problem 7 (10 Points)\n",
    "\n",
    "In the last problem set we learned how to curve fit a quadratic equation. The above equation is also a quadratic equation with respect to time. Use what we learned last week to fit a curve to the noisy data from our fellow researchers. Explicitly print out what the initial velocity $v_{0,y}$ and initial height $y_0$ are based on your curve fit along with their respective errors. "
   ]
  },
  {
   "cell_type": "code",
   "execution_count": 16,
   "metadata": {},
   "outputs": [
    {
     "ename": "UnitConversionError",
     "evalue": "Can only apply 'add' function to dimensionless quantities when other argument is not a quantity (unless the latter is all zero/infinity/nan)",
     "output_type": "error",
     "traceback": [
      "\u001b[0;31m---------------------------------------------------------------------------\u001b[0m",
      "\u001b[0;31mUnitConversionError\u001b[0m                       Traceback (most recent call last)",
      "\u001b[0;32m<ipython-input-16-f651ca8cf5c8>\u001b[0m in \u001b[0;36m<module>\u001b[0;34m\u001b[0m\n\u001b[1;32m      5\u001b[0m \u001b[0;34m\u001b[0m\u001b[0m\n\u001b[1;32m      6\u001b[0m \u001b[0mT\u001b[0m \u001b[0;34m=\u001b[0m \u001b[0mnp\u001b[0m\u001b[0;34m.\u001b[0m\u001b[0mlinspace\u001b[0m\u001b[0;34m(\u001b[0m\u001b[0;36m0\u001b[0m\u001b[0;34m,\u001b[0m\u001b[0;36m10\u001b[0m\u001b[0;34m,\u001b[0m\u001b[0;36m100\u001b[0m\u001b[0;34m)\u001b[0m\u001b[0;34m\u001b[0m\u001b[0;34m\u001b[0m\u001b[0m\n\u001b[0;32m----> 7\u001b[0;31m \u001b[0mplt\u001b[0m\u001b[0;34m.\u001b[0m\u001b[0mplot\u001b[0m\u001b[0;34m(\u001b[0m\u001b[0mT\u001b[0m\u001b[0;34m,\u001b[0m \u001b[0my\u001b[0m\u001b[0;34m(\u001b[0m\u001b[0mT\u001b[0m\u001b[0;34m)\u001b[0m\u001b[0;34m,\u001b[0m \u001b[0mlabel\u001b[0m \u001b[0;34m=\u001b[0m \u001b[0;34m'Y(t)'\u001b[0m\u001b[0;34m)\u001b[0m\u001b[0;34m\u001b[0m\u001b[0;34m\u001b[0m\u001b[0m\n\u001b[0m\u001b[1;32m      8\u001b[0m \u001b[0mplt\u001b[0m\u001b[0;34m.\u001b[0m\u001b[0mxlabel\u001b[0m\u001b[0;34m(\u001b[0m\u001b[0;34m'x-axis'\u001b[0m\u001b[0;34m)\u001b[0m\u001b[0;34m\u001b[0m\u001b[0;34m\u001b[0m\u001b[0m\n\u001b[1;32m      9\u001b[0m \u001b[0mplt\u001b[0m\u001b[0;34m.\u001b[0m\u001b[0mylabel\u001b[0m\u001b[0;34m(\u001b[0m\u001b[0;34m'y-axis'\u001b[0m\u001b[0;34m)\u001b[0m\u001b[0;34m\u001b[0m\u001b[0;34m\u001b[0m\u001b[0m\n",
      "\u001b[0;32m<ipython-input-16-f651ca8cf5c8>\u001b[0m in \u001b[0;36my\u001b[0;34m(t)\u001b[0m\n\u001b[1;32m      2\u001b[0m \u001b[0mg\u001b[0m \u001b[0;34m=\u001b[0m \u001b[0mcon\u001b[0m\u001b[0;34m.\u001b[0m\u001b[0mG\u001b[0m\u001b[0;34m\u001b[0m\u001b[0;34m\u001b[0m\u001b[0m\n\u001b[1;32m      3\u001b[0m \u001b[0;32mdef\u001b[0m \u001b[0my\u001b[0m\u001b[0;34m(\u001b[0m\u001b[0mt\u001b[0m\u001b[0;34m)\u001b[0m\u001b[0;34m:\u001b[0m\u001b[0;34m\u001b[0m\u001b[0;34m\u001b[0m\u001b[0m\n\u001b[0;32m----> 4\u001b[0;31m     \u001b[0;32mreturn\u001b[0m \u001b[0;34m-\u001b[0m\u001b[0;36m1\u001b[0m\u001b[0;34m/\u001b[0m\u001b[0;36m2\u001b[0m\u001b[0;34m*\u001b[0m\u001b[0mg\u001b[0m\u001b[0;34m*\u001b[0m\u001b[0mt\u001b[0m\u001b[0;34m**\u001b[0m\u001b[0;36m2\u001b[0m\u001b[0;34m+\u001b[0m\u001b[0;36m1\u001b[0m\u001b[0;34m*\u001b[0m\u001b[0mt\u001b[0m\u001b[0;34m+\u001b[0m\u001b[0;36m95\u001b[0m\u001b[0;34m\u001b[0m\u001b[0;34m\u001b[0m\u001b[0m\n\u001b[0m\u001b[1;32m      5\u001b[0m \u001b[0;34m\u001b[0m\u001b[0m\n\u001b[1;32m      6\u001b[0m \u001b[0mT\u001b[0m \u001b[0;34m=\u001b[0m \u001b[0mnp\u001b[0m\u001b[0;34m.\u001b[0m\u001b[0mlinspace\u001b[0m\u001b[0;34m(\u001b[0m\u001b[0;36m0\u001b[0m\u001b[0;34m,\u001b[0m\u001b[0;36m10\u001b[0m\u001b[0;34m,\u001b[0m\u001b[0;36m100\u001b[0m\u001b[0;34m)\u001b[0m\u001b[0;34m\u001b[0m\u001b[0;34m\u001b[0m\u001b[0m\n",
      "\u001b[0;32m/opt/anaconda3/lib/python3.8/site-packages/astropy/units/quantity.py\u001b[0m in \u001b[0;36m__array_ufunc__\u001b[0;34m(self, function, method, *inputs, **kwargs)\u001b[0m\n\u001b[1;32m    455\u001b[0m         \u001b[0;31m# consistent units between two inputs (e.g., in np.add) --\u001b[0m\u001b[0;34m\u001b[0m\u001b[0;34m\u001b[0m\u001b[0;34m\u001b[0m\u001b[0m\n\u001b[1;32m    456\u001b[0m         \u001b[0;31m# and the unit of the result (or tuple of units for nout > 1).\u001b[0m\u001b[0;34m\u001b[0m\u001b[0;34m\u001b[0m\u001b[0;34m\u001b[0m\u001b[0m\n\u001b[0;32m--> 457\u001b[0;31m         \u001b[0mconverters\u001b[0m\u001b[0;34m,\u001b[0m \u001b[0munit\u001b[0m \u001b[0;34m=\u001b[0m \u001b[0mconverters_and_unit\u001b[0m\u001b[0;34m(\u001b[0m\u001b[0mfunction\u001b[0m\u001b[0;34m,\u001b[0m \u001b[0mmethod\u001b[0m\u001b[0;34m,\u001b[0m \u001b[0;34m*\u001b[0m\u001b[0minputs\u001b[0m\u001b[0;34m)\u001b[0m\u001b[0;34m\u001b[0m\u001b[0;34m\u001b[0m\u001b[0m\n\u001b[0m\u001b[1;32m    458\u001b[0m \u001b[0;34m\u001b[0m\u001b[0m\n\u001b[1;32m    459\u001b[0m         \u001b[0mout\u001b[0m \u001b[0;34m=\u001b[0m \u001b[0mkwargs\u001b[0m\u001b[0;34m.\u001b[0m\u001b[0mget\u001b[0m\u001b[0;34m(\u001b[0m\u001b[0;34m'out'\u001b[0m\u001b[0;34m,\u001b[0m \u001b[0;32mNone\u001b[0m\u001b[0;34m)\u001b[0m\u001b[0;34m\u001b[0m\u001b[0;34m\u001b[0m\u001b[0m\n",
      "\u001b[0;32m/opt/anaconda3/lib/python3.8/site-packages/astropy/units/quantity_helper/converters.py\u001b[0m in \u001b[0;36mconverters_and_unit\u001b[0;34m(function, method, *args)\u001b[0m\n\u001b[1;32m    182\u001b[0m                         \u001b[0mconverters\u001b[0m\u001b[0;34m[\u001b[0m\u001b[0mi\u001b[0m\u001b[0;34m]\u001b[0m \u001b[0;34m=\u001b[0m \u001b[0;32mNone\u001b[0m\u001b[0;34m\u001b[0m\u001b[0;34m\u001b[0m\u001b[0m\n\u001b[1;32m    183\u001b[0m                     \u001b[0;32melse\u001b[0m\u001b[0;34m:\u001b[0m\u001b[0;34m\u001b[0m\u001b[0;34m\u001b[0m\u001b[0m\n\u001b[0;32m--> 184\u001b[0;31m                         raise UnitConversionError(\n\u001b[0m\u001b[1;32m    185\u001b[0m                             \u001b[0;34m\"Can only apply '{}' function to \"\u001b[0m\u001b[0;34m\u001b[0m\u001b[0;34m\u001b[0m\u001b[0m\n\u001b[1;32m    186\u001b[0m                             \u001b[0;34m\"dimensionless quantities when other \"\u001b[0m\u001b[0;34m\u001b[0m\u001b[0;34m\u001b[0m\u001b[0m\n",
      "\u001b[0;31mUnitConversionError\u001b[0m: Can only apply 'add' function to dimensionless quantities when other argument is not a quantity (unless the latter is all zero/infinity/nan)"
     ]
    }
   ],
   "source": [
    "from scipy.optimize import fsolve\n",
    "g = con.G\n",
    "def y(t): \n",
    "    return -1/2*g*t**2+1*t+95\n",
    "\n",
    "T = np.linspace(0,10,100)\n",
    "plt.plot(T, y(T), label = 'Y(t)')\n",
    "plt.xlabel('x-axis')\n",
    "plt.ylabel('y-axis')\n",
    "plt.legend()\n",
    "plt.show()\n",
    "\n",
    "roots = fsolve(y, [1.6843, 4.87397]) \n",
    "root1 = roots[0]\n",
    "root2 = roots[1]\n",
    "\n",
    " \n",
    "print (roots)\n",
    "# I'm not sure what wrong in this case, I don't understand what the error means\n"
   ]
  },
  {
   "cell_type": "markdown",
   "metadata": {},
   "source": [
    "## Problem 8 (10 Points)\n",
    "\n",
    "Alright now we have a model function that can fit the function as a function of time. create two lists/arrays of values using this function. One list's values should be time where we use `t = np.linspace(0,5,100)` to create the values and the other list should be your model's output after taking in all those times. (A list of the values you would normally plot)\n",
    "\n",
    "Once you have created your two lists of values, construct a pandas DataFrame using these lists. Your data frame should have two columns with 100 values each. "
   ]
  },
  {
   "cell_type": "code",
   "execution_count": null,
   "metadata": {},
   "outputs": [],
   "source": [
    "t = np.linspace(0,5,100)\n",
    "Data_frame2 = Data_frame1.append(t)"
   ]
  },
  {
   "cell_type": "markdown",
   "metadata": {},
   "source": [
    "## Problem 9 (10 Points)\n",
    "\n",
    "Last part of the problem set! This is basically one line of code. Export your new DataFrame to a csv file called **\"trajectory.csv\"**, this will be useful for your colleagues!"
   ]
  },
  {
   "cell_type": "code",
   "execution_count": 17,
   "metadata": {},
   "outputs": [
    {
     "ename": "AttributeError",
     "evalue": "module 'pandas' has no attribute 'Data_Frame2'",
     "output_type": "error",
     "traceback": [
      "\u001b[0;31m---------------------------------------------------------------------------\u001b[0m",
      "\u001b[0;31mAttributeError\u001b[0m                            Traceback (most recent call last)",
      "\u001b[0;32m<ipython-input-17-25d01239e21f>\u001b[0m in \u001b[0;36m<module>\u001b[0;34m\u001b[0m\n\u001b[0;32m----> 1\u001b[0;31m \u001b[0mdf\u001b[0m \u001b[0;34m=\u001b[0m \u001b[0mpd\u001b[0m\u001b[0;34m.\u001b[0m\u001b[0mData_Frame2\u001b[0m\u001b[0;34m(\u001b[0m\u001b[0mData_frame1\u001b[0m\u001b[0;34m)\u001b[0m\u001b[0;34m\u001b[0m\u001b[0;34m\u001b[0m\u001b[0m\n\u001b[0m\u001b[1;32m      2\u001b[0m \u001b[0mdf\u001b[0m\u001b[0;34m.\u001b[0m\u001b[0mto_csv\u001b[0m\u001b[0;34m(\u001b[0m\u001b[0;34m'trajectory.csv'\u001b[0m\u001b[0;34m)\u001b[0m\u001b[0;34m\u001b[0m\u001b[0;34m\u001b[0m\u001b[0m\n\u001b[1;32m      3\u001b[0m \u001b[0;31m# i tried my best here but I was not sure how to complete this\u001b[0m\u001b[0;34m\u001b[0m\u001b[0;34m\u001b[0m\u001b[0;34m\u001b[0m\u001b[0m\n\u001b[1;32m      4\u001b[0m \u001b[0;31m# problem, but I ran out of time, if given more time,\u001b[0m\u001b[0;34m\u001b[0m\u001b[0;34m\u001b[0m\u001b[0;34m\u001b[0m\u001b[0m\n\u001b[1;32m      5\u001b[0m \u001b[0;31m# I would've fixed my issue with the color coding and also why my\u001b[0m\u001b[0;34m\u001b[0m\u001b[0;34m\u001b[0m\u001b[0;34m\u001b[0m\u001b[0m\n",
      "\u001b[0;32m/opt/anaconda3/lib/python3.8/site-packages/pandas/__init__.py\u001b[0m in \u001b[0;36m__getattr__\u001b[0;34m(name)\u001b[0m\n\u001b[1;32m    261\u001b[0m             \u001b[0;32mreturn\u001b[0m \u001b[0m_SparseArray\u001b[0m\u001b[0;34m\u001b[0m\u001b[0;34m\u001b[0m\u001b[0m\n\u001b[1;32m    262\u001b[0m \u001b[0;34m\u001b[0m\u001b[0m\n\u001b[0;32m--> 263\u001b[0;31m         \u001b[0;32mraise\u001b[0m \u001b[0mAttributeError\u001b[0m\u001b[0;34m(\u001b[0m\u001b[0;34mf\"module 'pandas' has no attribute '{name}'\"\u001b[0m\u001b[0;34m)\u001b[0m\u001b[0;34m\u001b[0m\u001b[0;34m\u001b[0m\u001b[0m\n\u001b[0m\u001b[1;32m    264\u001b[0m \u001b[0;34m\u001b[0m\u001b[0m\n\u001b[1;32m    265\u001b[0m \u001b[0;34m\u001b[0m\u001b[0m\n",
      "\u001b[0;31mAttributeError\u001b[0m: module 'pandas' has no attribute 'Data_Frame2'"
     ]
    }
   ],
   "source": [
    "df = pd.Data_Frame2(Data_frame1)\n",
    "df.to_csv('trajectory.csv') \n",
    "# i tried my best here but I was not sure how to complete this \n",
    "# problem, but I ran out of time, if given more time, \n",
    "# I would've fixed my issue with the color coding and also why my \n",
    "# code for probelm 7 and 8 don't work"
   ]
  },
  {
   "cell_type": "code",
   "execution_count": 8,
   "metadata": {},
   "outputs": [
    {
     "ename": "NameError",
     "evalue": "name 'tarfile' is not defined",
     "output_type": "error",
     "traceback": [
      "\u001b[0;31m---------------------------------------------------------------------------\u001b[0m",
      "\u001b[0;31mNameError\u001b[0m                                 Traceback (most recent call last)",
      "\u001b[0;32m<ipython-input-8-70a511e514ad>\u001b[0m in \u001b[0;36m<module>\u001b[0;34m\u001b[0m\n\u001b[0;32m----> 1\u001b[0;31m \u001b[0mfit_file\u001b[0m \u001b[0;34m=\u001b[0m \u001b[0mtarfile\u001b[0m\u001b[0;34m.\u001b[0m\u001b[0mopen\u001b[0m\u001b[0;34m(\u001b[0m\u001b[0;34m'PanSTARR.txz'\u001b[0m\u001b[0;34m)\u001b[0m\u001b[0;34m\u001b[0m\u001b[0;34m\u001b[0m\u001b[0m\n\u001b[0m\u001b[1;32m      2\u001b[0m \u001b[0mData\u001b[0m \u001b[0;34m=\u001b[0m \u001b[0mTable\u001b[0m\u001b[0;34m.\u001b[0m\u001b[0mread\u001b[0m\u001b[0;34m(\u001b[0m\u001b[0mfit_file\u001b[0m\u001b[0;34m)\u001b[0m\u001b[0;34m\u001b[0m\u001b[0;34m\u001b[0m\u001b[0m\n\u001b[1;32m      3\u001b[0m \u001b[0mData\u001b[0m\u001b[0;34m\u001b[0m\u001b[0;34m\u001b[0m\u001b[0m\n",
      "\u001b[0;31mNameError\u001b[0m: name 'tarfile' is not defined"
     ]
    }
   ],
   "source": [
    "fit_file = tarfile.open('PanSTARR.txz')\n",
    "Data = Table.read(fit_file)\n",
    "Data "
   ]
  },
  {
   "cell_type": "code",
   "execution_count": null,
   "metadata": {},
   "outputs": [],
   "source": []
  }
 ],
 "metadata": {
  "kernelspec": {
   "display_name": "Python 3",
   "language": "python",
   "name": "python3"
  },
  "language_info": {
   "codemirror_mode": {
    "name": "ipython",
    "version": 3
   },
   "file_extension": ".py",
   "mimetype": "text/x-python",
   "name": "python",
   "nbconvert_exporter": "python",
   "pygments_lexer": "ipython3",
   "version": "3.8.3"
  }
 },
 "nbformat": 4,
 "nbformat_minor": 2
}
