{
 "cells": [
  {
   "cell_type": "markdown",
   "metadata": {},
   "source": [
    "# Homework 3\n",
    "\n",
    "This homework is mostly an introduction to Numpy! Arguably the most useful library in all of scientific programming. We will see just a taste of what it is truly capable of. Next week we will explore how you can use it with other libraries to do some pretty spectacular things! But for now we will focus on the basics\n",
    "\n",
    "In the cell directly below is where we typically write our `import` statements. We call this the `import` suite (later there will be a lot more things to import)"
   ]
  },
  {
   "cell_type": "code",
   "execution_count": 2,
   "metadata": {},
   "outputs": [],
   "source": [
    "import numpy as np #numpy.prod#"
   ]
  },
  {
   "cell_type": "markdown",
   "metadata": {},
   "source": [
    "# Playing with Numpy Arrays (20 Points)"
   ]
  },
  {
   "cell_type": "markdown",
   "metadata": {},
   "source": [
    "## Problem 1 (5 Points)\n",
    "\n",
    "Create an $8 \\times 8$ array with a checkerboard pattern of zeros and ones using a slicing + striding approach."
   ]
  },
  {
   "cell_type": "code",
   "execution_count": 2,
   "metadata": {},
   "outputs": [
    {
     "name": "stdout",
     "output_type": "stream",
     "text": [
      "[[0. 1. 0. 1. 0. 1. 0. 1.]\n",
      " [1. 0. 1. 0. 1. 0. 1. 0.]\n",
      " [0. 1. 0. 1. 0. 1. 0. 1.]\n",
      " [1. 0. 1. 0. 1. 0. 1. 0.]\n",
      " [0. 1. 0. 1. 0. 1. 0. 1.]\n",
      " [1. 0. 1. 0. 1. 0. 1. 0.]\n",
      " [0. 1. 0. 1. 0. 1. 0. 1.]\n",
      " [1. 0. 1. 0. 1. 0. 1. 0.]]\n"
     ]
    }
   ],
   "source": [
    "x = np.zeros((8,8))\n",
    "x[1::2,::2] = 1\n",
    "x[::2,1::2] = 1\n",
    "print(x)\n",
    "            "
   ]
  },
  {
   "cell_type": "markdown",
   "metadata": {},
   "source": [
    "## Problem 2 (5 Points)\n",
    "\n",
    "Create a random $5\\times5$ array using the function `np.random.rand(5, 5)`. Use a combination of array slicing + argsort + indexing to sort the rows according to the second column, and print the result."
   ]
  },
  {
   "cell_type": "code",
   "execution_count": 3,
   "metadata": {},
   "outputs": [
    {
     "name": "stdout",
     "output_type": "stream",
     "text": [
      "[[0.63175273 0.09335714 0.18010571 0.07247002 0.74026353]\n",
      " [0.39860312 0.36529722 0.63921508 0.36084608 0.64649224]\n",
      " [0.06579282 0.59302386 0.63738484 0.12726845 0.75098081]\n",
      " [0.1092839  0.83124827 0.92657262 0.62088907 0.83067082]\n",
      " [0.72673509 0.48719211 0.09244842 0.90314575 0.48606612]]\n"
     ]
    }
   ],
   "source": [
    "array = np.random.rand(5, 5)\n",
    "print(array)"
   ]
  },
  {
   "cell_type": "markdown",
   "metadata": {},
   "source": [
    "## Problem 3 (5 Points)\n",
    "\n",
    "Use `np.random.rand(5,5)` to create a random 5x5 array. Use boolean indexing to set the nine entries in a 3x3 block in the bottom right corner to 0. Print the result.\n",
    "\n",
    "(Hint: Use `np.ones()` or `np.zeros()` with the dtype argument to get a 5x5 array full of `True`'s or `False`'s. Use this array to build a boolean filter, in order to set only the entries you want equal to 0.)"
   ]
  },
  {
   "cell_type": "code",
   "execution_count": 4,
   "metadata": {},
   "outputs": [
    {
     "name": "stdout",
     "output_type": "stream",
     "text": [
      "[[0.41378241 0.36156301 0.04847358 0.64715271 0.04226329]\n",
      " [0.41209779 0.54030297 0.8207257  0.64217079 0.19498532]\n",
      " [0.69674044 0.23507546 0.88217137 0.09714668 0.79956002]\n",
      " [0.65460524 0.82796497 0.16242193 0.42476653 0.50410253]\n",
      " [0.82573078 0.10020576 0.98319054 0.48764133 0.97712083]]\n",
      "[[1. 1. 1. 1. 1.]\n",
      " [1. 1. 1. 1. 1.]\n",
      " [1. 1. 0. 0. 0.]\n",
      " [1. 1. 0. 0. 0.]\n",
      " [1. 1. 0. 0. 0.]]\n"
     ]
    }
   ],
   "source": [
    "random = np.random.rand(5,5)\n",
    "print (random)\n",
    "random[:,:] = np.ones((5,5), dtype = bool)\n",
    "random[2:,2:] = np.zeros((3,3), dtype = bool)\n",
    "print (random)"
   ]
  },
  {
   "cell_type": "markdown",
   "metadata": {},
   "source": [
    "## Problem 4 (5 Points)\n",
    "\n",
    "Create a 1D numpy array that is equivalent to the following list:\n",
    "\n",
    "                `numbers = [1,2,3,4,5,6,7,8,9,10]`\n",
    "              \n",
    "Once you have created this array, append the even values following the number 10 going all the way to 100. So your array should be the same as a list that looks like:\n",
    "\n",
    "    `modified_nums = [1,2,3,4,5,6,7,8,9,10,12,14,16...96,98,100]`\n",
    "    \n",
    "Hint 1: Try using a for loop. You can make use of the `range` function in python that will give you a range of numbers to iterate over`range(5)` will give me an iterable object that is like a list `[0,1,2,3,4]`. I encourage you to google how to use it so you can start your range at a different number other than 0 as well. \n",
    "\n",
    "Hint 2: numpy has a slightly different method to append numbers to an array than python's standard syntax. I recommend googling to figure out the difference so that you dont get lots of errors. "
   ]
  },
  {
   "cell_type": "code",
   "execution_count": 5,
   "metadata": {},
   "outputs": [
    {
     "name": "stdout",
     "output_type": "stream",
     "text": [
      "numbers =  [ 1  2  3  4  5  6  7  8  9 10]\n",
      "numbers =  [ 1  2  3  4  5  6  7  8  9 10]\n",
      "numbers =  [ 1  2  3  4  5  6  7  8  9 10]\n",
      "numbers =  [ 1  2  3  4  5  6  7  8  9 10]\n",
      "numbers =  [ 1  2  3  4  5  6  7  8  9 10]\n",
      "numbers =  [ 1  2  3  4  5  6  7  8  9 10]\n",
      "numbers =  [ 1  2  3  4  5  6  7  8  9 10]\n",
      "numbers =  [ 1  2  3  4  5  6  7  8  9 10]\n",
      "numbers =  [ 1  2  3  4  5  6  7  8  9 10]\n",
      "numbers =  [ 1  2  3  4  5  6  7  8  9 10]\n"
     ]
    }
   ],
   "source": [
    "import numpy as np\n",
    "array_1 = np.arange(1,11)\n",
    "array_1\n",
    "for i in range(len(array_1)):\n",
    "    print ('numbers = ',array_1)"
   ]
  },
  {
   "cell_type": "code",
   "execution_count": 6,
   "metadata": {},
   "outputs": [
    {
     "name": "stdout",
     "output_type": "stream",
     "text": [
      "modified_nums =  [  1   2   3   4   5   6   7   8   9  10  10  11  12  13  14  15  16  17\n",
      "  18  19  20  21  22  23  24  25  26  27  28  29  30  31  32  33  34  35\n",
      "  36  37  38  39  40  41  42  43  44  45  46  47  48  49  50  51  52  53\n",
      "  54  55  56  57  58  59  60  61  62  63  64  65  66  67  68  69  70  71\n",
      "  72  73  74  75  76  77  78  79  80  81  82  83  84  85  86  87  88  89\n",
      "  90  91  92  93  94  95  96  97  98  99 100]\n"
     ]
    }
   ],
   "source": [
    "array_2 = np.arange (10,101)\n",
    "\n",
    "print ('modified_nums = ',np.append(array_1,array_2) )\n"
   ]
  },
  {
   "cell_type": "markdown",
   "metadata": {},
   "source": [
    "# Challenge Problem"
   ]
  },
  {
   "cell_type": "markdown",
   "metadata": {},
   "source": [
    "## Problem 5: Binomial Coefficients (20 Points)\n",
    "\n",
    "[Adapted from Newman, Exercise 2.11 and Physics 77] The binomial coefficient $n \\choose k$ is an integer equal to\n",
    "\n",
    "$$ {n \\choose k} = \\frac{n!}{k!(n-k)!} = \\frac{n \\times (n-1) \\times (n-2) \\times \\cdots \\times (n-k + 1)}{1 \\times 2 \\times \\cdots \\times k} $$\n",
    "\n",
    "when $k \\geq 1$, or ${n \\choose 0} = 1$ when $k=0$. (The special case $k=0$ can be included in the general definition by using the conventional definition $0! \\equiv 1$.)\n",
    "\n",
    "1. Write a function `factorial(n)` that takes an integer $n$ and returns $n!$ as an integer. It should yield $1$ when $n=0$. You may assume that the argument will also be an integer greater than or equal to 0.\n",
    "\n",
    "1. Using the form of the binomial coefficient given above, write a function `binomial(n,k)` that calculates the binomial coefficient for given $n$ and $k$. Make sure your function returns the answer in the form of an integer (not a float) and gives the correct value of 1 for the case where $k=0$. (Hint: Use your `factorial` function from Part 1.)\n",
    "\n",
    "1. Using your `binomial` function, write a function `pascals_triangle(N)` to print out the first $N$ lines of \"Pascal's triangle\" (starting with the $0$th line). The $n$th line of Pascal's triangle contains $n+1$ numbers, which are the coefficients $n \\choose 0$, $n \\choose 1$, and so on up to $n \\choose n$. Thus the first few lines are\n",
    "        1\n",
    "        1 1\n",
    "        1 2 1\n",
    "        1 3 3 1\n",
    "        1 4 6 4 1     \n",
    "This would be the result of `pascals_triangle(5)`. Print the first 15 rows of Pascal's triangle.\n",
    "        \n",
    "1. The probability that an ubiased coin, tossed $n$ times, will come up heads $k$ times is ${n \\choose k} / 2^n$. (Or instead of coins, perhaps you'd prefer to think of spins measured in a [Stern-Gerlach experiment](https://en.wikipedia.org/wiki/Stern%E2%80%93Gerlach_experiment).)\n",
    "    - Write a function `heads_exactly(n,k)` to calculate the probability that a coin tossed $n$ times comes up heads exactly $k$ times.\n",
    "    - Write a function `heads_atleast(n,k)` to calculate the probability that a coin tossed $n$ times comes up heads $k$ or more times.\n",
    "    - Print the probabilities (to three decimal places) that a coin tossed 100 times comes up heads exactly 60 times, and at least 60 times. You should print corresponding statements with the numbers so it is clear what they each mean.\n",
    "\n",
    "#### Output\n",
    "\n",
    "To summarize, your program should output the following things:\n",
    "\n",
    "1. The first 15 rows of Pascal's triangle\n",
    "1. The probabilities (to three decimal places) that a coin tossed 100 times comes up heads exactly 60 times, and at least 60 times, with corresponding statements so it is clear what each number signifies.\n",
    "\n",
    "#### Reminder\n",
    "\n",
    "Remember to write informative doc strings, comment your code, and use descriptive function and variable names so others (and future you) can understand what you're doing!"
   ]
  },
  {
   "cell_type": "code",
   "execution_count": 7,
   "metadata": {},
   "outputs": [
    {
     "ename": "TypeError",
     "evalue": "'<=' not supported between instances of 'int' and 'list'",
     "output_type": "error",
     "traceback": [
      "\u001b[0;31m---------------------------------------------------------------------------\u001b[0m",
      "\u001b[0;31mTypeError\u001b[0m                                 Traceback (most recent call last)",
      "\u001b[0;32m<ipython-input-7-d03a96069d45>\u001b[0m in \u001b[0;36m<module>\u001b[0;34m\u001b[0m\n\u001b[1;32m     19\u001b[0m         \u001b[0mresult\u001b[0m\u001b[0;34m.\u001b[0m\u001b[0mappend\u001b[0m\u001b[0;34m(\u001b[0m\u001b[0mr\u001b[0m\u001b[0;34m)\u001b[0m\u001b[0;34m\u001b[0m\u001b[0;34m\u001b[0m\u001b[0m\n\u001b[1;32m     20\u001b[0m     \u001b[0;32mreturn\u001b[0m \u001b[0mr\u001b[0m\u001b[0;34m\u001b[0m\u001b[0;34m\u001b[0m\u001b[0m\n\u001b[0;32m---> 21\u001b[0;31m \u001b[0mpascal_triangle\u001b[0m\u001b[0;34m(\u001b[0m\u001b[0;36m4\u001b[0m\u001b[0;34m)\u001b[0m\u001b[0;34m\u001b[0m\u001b[0;34m\u001b[0m\u001b[0m\n\u001b[0m\u001b[1;32m     22\u001b[0m \u001b[0;31m# r is rows\u001b[0m\u001b[0;34m\u001b[0m\u001b[0;34m\u001b[0m\u001b[0;34m\u001b[0m\u001b[0m\n\u001b[1;32m     23\u001b[0m \u001b[0;31m# I was not sure how to fix my binomial/pascal's triangle function.#\u001b[0m\u001b[0;34m\u001b[0m\u001b[0;34m\u001b[0m\u001b[0;34m\u001b[0m\u001b[0m\n",
      "\u001b[0;32m<ipython-input-7-d03a96069d45>\u001b[0m in \u001b[0;36mpascal_triangle\u001b[0;34m(r)\u001b[0m\n\u001b[1;32m     14\u001b[0m     \u001b[0mr\u001b[0m \u001b[0;34m=\u001b[0m \u001b[0;34m[\u001b[0m\u001b[0;34m]\u001b[0m\u001b[0;34m\u001b[0m\u001b[0;34m\u001b[0m\u001b[0m\n\u001b[1;32m     15\u001b[0m     \u001b[0melement\u001b[0m \u001b[0;34m=\u001b[0m \u001b[0;36m0\u001b[0m\u001b[0;34m\u001b[0m\u001b[0;34m\u001b[0m\u001b[0m\n\u001b[0;32m---> 16\u001b[0;31m     \u001b[0;32mwhile\u001b[0m \u001b[0melement\u001b[0m \u001b[0;34m<=\u001b[0m \u001b[0mr\u001b[0m\u001b[0;34m:\u001b[0m\u001b[0;34m\u001b[0m\u001b[0;34m\u001b[0m\u001b[0m\n\u001b[0m\u001b[1;32m     17\u001b[0m         \u001b[0;32mfor\u001b[0m \u001b[0melement\u001b[0m \u001b[0;32min\u001b[0m \u001b[0mrange\u001b[0m \u001b[0;34m(\u001b[0m\u001b[0mcount\u001b[0m \u001b[0;34m+\u001b[0m \u001b[0;36m1\u001b[0m\u001b[0;34m)\u001b[0m\u001b[0;34m:\u001b[0m\u001b[0;34m\u001b[0m\u001b[0;34m\u001b[0m\u001b[0m\n\u001b[1;32m     18\u001b[0m             \u001b[0mr\u001b[0m\u001b[0;34m.\u001b[0m\u001b[0mappend\u001b[0m\u001b[0;34m[\u001b[0m\u001b[0mcombination\u001b[0m\u001b[0;34m(\u001b[0m\u001b[0mcount\u001b[0m\u001b[0;34m,\u001b[0m \u001b[0melement\u001b[0m\u001b[0;34m)\u001b[0m\u001b[0;34m]\u001b[0m\u001b[0;34m\u001b[0m\u001b[0;34m\u001b[0m\u001b[0m\n",
      "\u001b[0;31mTypeError\u001b[0m: '<=' not supported between instances of 'int' and 'list'"
     ]
    }
   ],
   "source": [
    "def fact_orial(n):\n",
    "    factorial = 1\n",
    "    if (n) >= 0: \n",
    "        for i in range(1,(n)+1):\n",
    "            factorial = factorial * i\n",
    "    print (factorial)\n",
    "def binomial(n,k): \n",
    "        num_1 = (fact_orial(n))\n",
    "        num_2 = (fact_orial(k)) \n",
    "        b = (n-k)\n",
    "        num_3 = (fact_orial(b))\n",
    "        return ((num_1/(num_2*num_3)))\n",
    "def pascal_triangle(r):\n",
    "    r = []\n",
    "    element = 0\n",
    "    while element <= r: \n",
    "        for element in range (count + 1):\n",
    "            r.append[combination(count, element)]\n",
    "        result.append(r)\n",
    "    return r\n",
    "pascal_triangle(4)\n",
    "# r is rows \n",
    "# I was not sure how to fix my binomial/pascal's triangle function.#"
   ]
  },
  {
   "cell_type": "markdown",
   "metadata": {},
   "source": [
    "# Data Manipulation (File IO)\n",
    "\n",
    "### Note: The following introduction was adapted from Physics 77 and modified for our needs.\n",
    "\n",
    "#### ASCII Files or .txt Files\n",
    "\n",
    "Think of ASCII files as text files. You can open them using a text editor (like vim or emacs in Unix, or Notepad in Windows) and read the information they contain directly. There are a few ways to produce these files, and to read them once they've been produced. In Python, the simplest way is to use file objects. \n",
    "\n",
    "Let's give it a try. We create an abstract file object by calling the function `open( filename, access_mode )` and assigning its return value to a variable (usually `f`). The argument `filename` just specifices the name of the file we're interested in, and `access_mode` tells Python what we plan to do with that file:  \n",
    "\n",
    "    'r': read the file  \n",
    "    'w': write to the file (creates a new file, or clears an existing file)\n",
    "    'a': append the file  \n",
    "     \n",
    "Note that both arguments should be strings.\n",
    "For full syntax and special arguments, see documentation at https://docs.python.org/2/library/functions.html#open"
   ]
  },
  {
   "cell_type": "code",
   "execution_count": 8,
   "metadata": {},
   "outputs": [],
   "source": [
    "f = open( 'welcome.txt', 'w' )"
   ]
  },
  {
   "cell_type": "markdown",
   "metadata": {},
   "source": [
    "**A note of caution**: as soon as you call `open()`, Python creates a new file with the name you pass to it if you open it in write mode (`'w'`). Python will overwrite existing files if you open a file of the same name in write ('`w`') mode.\n",
    "\n",
    "Now we can write to the file using `f.write( thing_to_write )`. We can write anything we want, but it must be formatted as a string."
   ]
  },
  {
   "cell_type": "code",
   "execution_count": 9,
   "metadata": {},
   "outputs": [],
   "source": [
    "topics = ['Data types', 'Loops', 'Functions', 'Arrays']"
   ]
  },
  {
   "cell_type": "code",
   "execution_count": 10,
   "metadata": {},
   "outputs": [],
   "source": [
    "f.write( 'Welcome to the Python DeCal, Fall 2020\\n' ) # the newline command \\n tells Python to start a new line\n",
    "f.write( 'Topics we will learn about include:\\n' )\n",
    "for top in topics:\n",
    "    f.write( top + '\\n')\n",
    "f.close()                                         # don't forget this part!"
   ]
  },
  {
   "cell_type": "markdown",
   "metadata": {},
   "source": [
    "## Problem 6 (10 Points)\n",
    "\n",
    "### Part a)\n",
    "\n",
    "Use the syntax you have just learned to create an ASCII file titled \"`cosine.txt`\" with two columns containing 20 x and 20 y values. The x values should range from $0$ to $2\\pi$ - you can use `np.linspace()` to generate these values (as many as you want). The y values should be $y = cos(x)$ (you can use `np.cos()`) for this. Then, use a `for` loop as above to write a new line for each pair of x and y values. To make sure that each x,y pair is on a new line, remember to add `\\n` to the end of each line like above. To separate the values by a tab so that the columns are nicely aligned, you can use the \"character\" `\\t`.  So `\\n` inserts a new line and `\\t` inserts a tab. You may wish to use some kind of string formatting to decimals from running too far. Here is an example with just one data point:\n",
    "\n",
    "    x = 0.5 * np.pi\n",
    "    y = np.cos(x)\n",
    "    print(\"{0:0.5f} \\t {1:0.5f}\".format(x,y))\n",
    "\n",
    "Pay close attention to the fact that when you use the `write` function, the argument that you pass to it needs to be a string."
   ]
  },
  {
   "cell_type": "code",
   "execution_count": 55,
   "metadata": {},
   "outputs": [],
   "source": [
    "values = ['x = np.linspace(1.0,2*(math.pi),20, endpoint=True)']"
   ]
  },
  {
   "cell_type": "code",
   "execution_count": 56,
   "metadata": {},
   "outputs": [],
   "source": [
    "g = open('cosine.txt', 'w')\n",
    "g.write('y=np.cos(x) \\n')\n",
    "for i in values: \n",
    "    g.write (i + '\\n')\n",
    "g.close()"
   ]
  },
  {
   "cell_type": "markdown",
   "metadata": {},
   "source": [
    "### Part b)\n",
    "\n",
    "We can use the code in cell beneath this one to read our values back into the jupyter notebook from our `welcome.txt` file. (If you are curious about what the `.strip()` does.... Remove it and see what happens)"
   ]
  },
  {
   "cell_type": "code",
   "execution_count": 57,
   "metadata": {},
   "outputs": [
    {
     "name": "stdout",
     "output_type": "stream",
     "text": [
      "Welcome to the Python DeCal, Fall 2020\n",
      "Topics we will learn about include:\n",
      "Data types\n",
      "Loops\n",
      "Functions\n",
      "Arrays\n"
     ]
    }
   ],
   "source": [
    "f = open( 'welcome.txt', 'r' )\n",
    "for line in f:\n",
    "    print(line.strip())\n",
    "f.close()"
   ]
  },
  {
   "cell_type": "markdown",
   "metadata": {},
   "source": [
    "Your task for this part b) is to read in the values of `cosine.txt` the same way we just did for the `welcome.txt` file above. "
   ]
  },
  {
   "cell_type": "code",
   "execution_count": 5,
   "metadata": {},
   "outputs": [
    {
     "ename": "TypeError",
     "evalue": "'int' object is not subscriptable",
     "output_type": "error",
     "traceback": [
      "\u001b[0;31m---------------------------------------------------------------------------\u001b[0m",
      "\u001b[0;31mTypeError\u001b[0m                                 Traceback (most recent call last)",
      "\u001b[0;32m<ipython-input-5-14a4db0930de>\u001b[0m in \u001b[0;36m<module>\u001b[0;34m\u001b[0m\n\u001b[1;32m      2\u001b[0m \u001b[0mx\u001b[0m \u001b[0;34m=\u001b[0m \u001b[0;36m4\u001b[0m\u001b[0;34m\u001b[0m\u001b[0;34m\u001b[0m\u001b[0m\n\u001b[1;32m      3\u001b[0m \u001b[0;32mfor\u001b[0m \u001b[0mi\u001b[0m \u001b[0;32min\u001b[0m \u001b[0mrange\u001b[0m\u001b[0;34m(\u001b[0m\u001b[0;36m20\u001b[0m\u001b[0;34m)\u001b[0m\u001b[0;34m:\u001b[0m\u001b[0;34m\u001b[0m\u001b[0;34m\u001b[0m\u001b[0m\n\u001b[0;32m----> 4\u001b[0;31m     \u001b[0mprint\u001b[0m\u001b[0;34m(\u001b[0m\u001b[0mx\u001b[0m\u001b[0;34m[\u001b[0m\u001b[0mi\u001b[0m\u001b[0;34m]\u001b[0m\u001b[0;34m)\u001b[0m\u001b[0;34m\u001b[0m\u001b[0;34m\u001b[0m\u001b[0m\n\u001b[0m\u001b[1;32m      5\u001b[0m \u001b[0mg\u001b[0m\u001b[0;34m.\u001b[0m\u001b[0mclose\u001b[0m \u001b[0;31m# I was unsure how to employ np.linspace #\u001b[0m\u001b[0;34m\u001b[0m\u001b[0;34m\u001b[0m\u001b[0m\n",
      "\u001b[0;31mTypeError\u001b[0m: 'int' object is not subscriptable"
     ]
    }
   ],
   "source": [
    "g = open ('cosine.txt', 'w')\n",
    "x = 4\n",
    "for i in range(20): \n",
    "    print(x[i])\n",
    "g.close # I was unsure how to employ np.linspace #\n"
   ]
  },
  {
   "cell_type": "markdown",
   "metadata": {},
   "source": [
    "Suppose we wanted to skip the first two lines of `welcome.txt` and print only the list of topics `('Data types', 'Loops', 'Functions', 'Arrays')`. We can use `readline()` to \"read\" the first two lines but not store their value, thereby ignoring them."
   ]
  },
  {
   "cell_type": "code",
   "execution_count": 60,
   "metadata": {},
   "outputs": [
    {
     "name": "stdout",
     "output_type": "stream",
     "text": [
      "['Data types', 'Loops', 'Functions', 'Arrays']\n"
     ]
    }
   ],
   "source": [
    "f = open( 'welcome.txt', 'r' )\n",
    "f.readline()\n",
    "f.readline() # skip the first two lines\n",
    "topicList = []\n",
    "for line in f:\n",
    "    topicList.append(line.strip())\n",
    "f.close()\n",
    "print(topicList)"
   ]
  },
  {
   "cell_type": "markdown",
   "metadata": {},
   "source": [
    "# The Easy Way\n",
    "\n",
    "The above method is how you use native python with no libraries to read in a text file.... I don't know about you but that sucked. It was long and tedious and a lot to remember. Luckily, the people who created the `numpy` library thought this too. They figured out how to do almost all the stuff we just did in 1 line of code. This can be done using `numpy.loadtxt()` and `numpy.loadtxt()`\n",
    "\n",
    "\n",
    "Below is an import statement of a `.csv` file. This is basically the same thing as a `.txt` file but much easier to work with. It stands for Comma Seperated Value.... meaning internally in the file itself everything is seperated by a comma. \n",
    "\n",
    "The `.loadtxt` function takes in the file path/name as a string (make sure you keep track of its directory path and if your notebook is in the same directory then don't worry about including the directory) we set the delimiter parameter to a comma so numpy knows how to seperate everything the way we want. Finally we use the skiprows argument and we set it to 1 to skip the first row of the file because the first row has the names of each column. "
   ]
  },
  {
   "cell_type": "code",
   "execution_count": 56,
   "metadata": {},
   "outputs": [],
   "source": [
    "data = np.loadtxt('sample_data.csv', delimiter=',', skiprows = 1)"
   ]
  },
  {
   "cell_type": "code",
   "execution_count": 57,
   "metadata": {},
   "outputs": [
    {
     "data": {
      "text/plain": [
       "array([[ 1.  ,  9.44],\n",
       "       [ 2.  ,  9.54],\n",
       "       [ 3.  ,  9.53],\n",
       "       [ 4.  , 10.  ],\n",
       "       [ 5.  , 11.1 ],\n",
       "       [ 6.  ,  8.6 ],\n",
       "       [ 7.  ,  6.  ],\n",
       "       [ 8.  ,  8.8 ],\n",
       "       [ 9.  ,  9.  ],\n",
       "       [10.  ,  9.8 ],\n",
       "       [11.  ,  9.14],\n",
       "       [12.  ,  9.99],\n",
       "       [13.  , 10.4 ],\n",
       "       [14.  ,  7.7 ],\n",
       "       [15.  ,  9.  ]])"
      ]
     },
     "execution_count": 57,
     "metadata": {},
     "output_type": "execute_result"
    }
   ],
   "source": [
    "data"
   ]
  },
  {
   "cell_type": "markdown",
   "metadata": {},
   "source": [
    "Hazzah! This is just a 2D numpy array isn't that neat! This can be a little combersome to seperate neatly so let's add an extra argument called `unpack` and we set it equal to `True`. This essentially tells python to split each column up into a 1D array that we can treat as a list. "
   ]
  },
  {
   "cell_type": "markdown",
   "metadata": {},
   "source": [
    "Now we can assign names to each column's corresponding values and treat them as variables. This sample data happens to be me measuring the constant of gravity on earth ($g_{earth}$) from my Dorm."
   ]
  },
  {
   "cell_type": "code",
   "execution_count": 58,
   "metadata": {},
   "outputs": [],
   "source": [
    "trials, values = np.loadtxt('sample_data.csv', unpack=True, delimiter=',', skiprows = 1)"
   ]
  },
  {
   "cell_type": "code",
   "execution_count": 59,
   "metadata": {},
   "outputs": [
    {
     "data": {
      "text/plain": [
       "array([ 1.,  2.,  3.,  4.,  5.,  6.,  7.,  8.,  9., 10., 11., 12., 13.,\n",
       "       14., 15.])"
      ]
     },
     "execution_count": 59,
     "metadata": {},
     "output_type": "execute_result"
    }
   ],
   "source": [
    "trials"
   ]
  },
  {
   "cell_type": "code",
   "execution_count": 60,
   "metadata": {},
   "outputs": [
    {
     "data": {
      "text/plain": [
       "array([ 9.44,  9.54,  9.53, 10.  , 11.1 ,  8.6 ,  6.  ,  8.8 ,  9.  ,\n",
       "        9.8 ,  9.14,  9.99, 10.4 ,  7.7 ,  9.  ])"
      ]
     },
     "execution_count": 60,
     "metadata": {},
     "output_type": "execute_result"
    }
   ],
   "source": [
    "values"
   ]
  },
  {
   "cell_type": "markdown",
   "metadata": {},
   "source": [
    "## Problem 7 (10 Points)\n",
    "\n",
    "In lecture we discussed a couple neat functions that numpy has built in ready to go for our use. \n",
    "\n",
    "**Part a)** Your task for this last problem is to calculate:\n",
    "\n",
    "- The Minimum\n",
    "- The Maximum\n",
    "- The Median\n",
    "- The Mean\n",
    "- The Standard Deviation\n",
    "\n",
    "Of the dataset. Print the values in a well formatted string with 3 sig figs past the decimal. The data is reported in SI units. "
   ]
  },
  {
   "cell_type": "code",
   "execution_count": 15,
   "metadata": {},
   "outputs": [],
   "source": [
    "## I was unable to reach these problems because I had other commitments; midterms 😖##"
   ]
  },
  {
   "cell_type": "markdown",
   "metadata": {},
   "source": [
    "**Part b)** Now have python figure out which trial corresponds to the maximum and minumum data value. Do not just look at the data, use what you know to figure out which trial corresponds to which data point."
   ]
  },
  {
   "cell_type": "code",
   "execution_count": 16,
   "metadata": {},
   "outputs": [],
   "source": [
    "###Your Code Here###"
   ]
  }
 ],
 "metadata": {
  "kernelspec": {
   "display_name": "Python 3",
   "language": "python",
   "name": "python3"
  },
  "language_info": {
   "codemirror_mode": {
    "name": "ipython",
    "version": 3
   },
   "file_extension": ".py",
   "mimetype": "text/x-python",
   "name": "python",
   "nbconvert_exporter": "python",
   "pygments_lexer": "ipython3",
   "version": "3.8.3"
  }
 },
 "nbformat": 4,
 "nbformat_minor": 4
}
